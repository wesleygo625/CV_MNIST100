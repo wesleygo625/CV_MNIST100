{
 "cells": [
  {
   "cell_type": "code",
   "execution_count": 27,
   "id": "9b0f558a",
   "metadata": {},
   "outputs": [],
   "source": [
    "import pandas as pd\n",
    "import numpy as np\n",
    "from sklearn.model_selection import train_test_split\n",
    "from sklearn.neural_network import MLPRegressor\n",
    "from sklearn.metrics import confusion_matrix, accuracy_score\n",
    "import matplotlib.pyplot as plt\n",
    "import math\n",
    "import tensorflow as tf\n",
    "from tensorflow.keras.layers import Dense, Dropout\n",
    "import binarytree as bt"
   ]
  },
  {
   "cell_type": "code",
   "execution_count": 2,
   "id": "b8477698",
   "metadata": {
    "scrolled": false
   },
   "outputs": [],
   "source": [
    "def setup_dataframes():\n",
    "    df = pd.read_csv('MM_game_data.csv')\n",
    "    df = df[df['YEAR'] >= 2013]\n",
    "    df = df[df['YEAR'] <= 2023]\n",
    "    np.unique(df['YEAR'])\n",
    "    games = df.drop(['ROUND'], axis=1)\n",
    "    \n",
    "    df = pd.read_csv('cbb.csv')\n",
    "    df = df[df['SEED'] > 0]\n",
    "    df = df[df['YEAR'] <= 2023]\n",
    "    teams = df.drop(['CONF', 'POSTSEASON', 'SEED'], axis=1)\n",
    "    \n",
    "    rv = np.floor(np.random.rand(len(games))*2)\n",
    "    \n",
    "    return (games,teams,rv)"
   ]
  },
  {
   "cell_type": "code",
   "execution_count": 3,
   "id": "9db46b5b",
   "metadata": {},
   "outputs": [],
   "source": [
    "def get_team_data(team, year):\n",
    "    all_years = teams.loc[teams['TEAM'] == team]\n",
    "    specific_year = all_years.loc[all_years['YEAR'] == year]\n",
    "    return specific_year"
   ]
  },
  {
   "cell_type": "code",
   "execution_count": 4,
   "id": "ce9ea836",
   "metadata": {
    "scrolled": true
   },
   "outputs": [],
   "source": [
    "def assemble_game_data():\n",
    "    game_data = np.zeros(shape=(len(games), 38))\n",
    "    for i in range(0,len(games)):\n",
    "        wdata = get_team_data(games.iloc[i]['WTEAM'], games.iloc[i]['YEAR']).drop(['TEAM', 'YEAR'], axis=1)\n",
    "        ldata = get_team_data(games.iloc[i]['LTEAM'], games.iloc[i]['YEAR']).drop(['TEAM', 'YEAR'], axis=1)\n",
    "        if rv[i] == 0:\n",
    "            game_data[i] = np.hstack([wdata, ldata])\n",
    "        else:\n",
    "            game_data[i] = np.hstack([ldata, wdata])\n",
    "    return game_data"
   ]
  },
  {
   "cell_type": "code",
   "execution_count": 5,
   "id": "e220ec1a",
   "metadata": {},
   "outputs": [],
   "source": [
    "def assemble_response_data():\n",
    "    score_diff = []\n",
    "    for i in range(0,len(games)):\n",
    "        if rv[i] == 0:\n",
    "            score_diff.append(games.iloc[i]['WSCORE'] - games.iloc[i]['LSCORE'])\n",
    "        else:\n",
    "            score_diff.append(games.iloc[i]['LSCORE'] - games.iloc[i]['WSCORE'])\n",
    "    return score_diff"
   ]
  },
  {
   "cell_type": "code",
   "execution_count": 6,
   "id": "60f789bd",
   "metadata": {},
   "outputs": [],
   "source": [
    "def get_invalid_team_names():\n",
    "    wrong_names = []\n",
    "\n",
    "    for i in range(0,len(games)):\n",
    "        wdata = get_team_data(games.iloc[i]['WTEAM'], games.iloc[i]['YEAR'])\n",
    "        if wdata.empty:\n",
    "            wrong_names.append(games.iloc[i]['WTEAM'])\n",
    "        ldata = get_team_data(games.iloc[i]['LTEAM'], games.iloc[i]['YEAR'])\n",
    "        if ldata.empty:\n",
    "            wrong_names.append(games.iloc[i]['LTEAM'])\n",
    "    return np.unique(wrong_names)"
   ]
  },
  {
   "cell_type": "code",
   "execution_count": 7,
   "id": "5917d0b8",
   "metadata": {},
   "outputs": [],
   "source": [
    "def process_bracket(model):\n",
    "    numlist = [1,16,8,9,5,12,4,13,6,11,3,14,7,10,2,15]\n",
    "    df = pd.read_csv('2023bracket.csv')\n",
    "    \n",
    "    FF = first_four_winners(df, model) \n",
    "    print(\"First four winners: \" + str(FF))\n",
    "    south = [None] * 16\n",
    "    east = [None] * 16\n",
    "    midwest = [None] * 16\n",
    "    west = [None] * 16\n",
    "    \n",
    "    for i in range(16):\n",
    "        if i == 15:\n",
    "            south[numlist.index(i+1)] = FF[0]\n",
    "            east[numlist.index(i+1)] = FF[1]\n",
    "        else:\n",
    "            southdata = df.loc[(df['Division'] == 'South') & (df['Seed'] == str(i+1))]\n",
    "            south[numlist.index(i+1)] = str(southdata.iloc[0]['Team'])\n",
    "            eastdata = df.loc[(df['Division'] == 'East') & (df['Seed'] == str(i+1))]\n",
    "            east[numlist.index(i+1)] = str(eastdata.iloc[0]['Team'])\n",
    "        if i == 10:\n",
    "            midwest[numlist.index(i+1)] = FF[2]\n",
    "            west[numlist.index(i+1)] = FF[3]\n",
    "        else:\n",
    "            midwestdata = df.loc[(df['Division'] == 'Midwest') & (df['Seed'] == str(i+1))]\n",
    "            midwest[numlist.index(i+1)] = str(midwestdata.iloc[0]['Team'])\n",
    "            westdata = df.loc[(df['Division'] == 'West') & (df['Seed'] == str(i+1))]\n",
    "            west[numlist.index(i+1)] = str(westdata.iloc[0]['Team'])\n",
    "            \n",
    "    south1 = []\n",
    "    east1 = []\n",
    "    midwest1 = []\n",
    "    west1 = []\n",
    "    for i in range(int(len(south)/2)):\n",
    "        south1.append(pred_winner(south[2*i], south[2*i+1]))\n",
    "        east1.append(pred_winner(east[2*i], east[2*i+1]))\n",
    "        midwest1.append(pred_winner(midwest[2*i], midwest[2*i+1]))\n",
    "        west1.append(pred_winner(west[2*i], west[2*i+1]))\n",
    "    \n",
    "    print(\"Round 1 winners: \")\n",
    "    print(south1)\n",
    "    print(east1)\n",
    "    print(midwest1)\n",
    "    print(west1)\n",
    "    \n",
    "    south2 = []\n",
    "    east2 = []\n",
    "    midwest2 = []\n",
    "    west2 = []\n",
    "    for i in range(int(len(south1)/2)):\n",
    "        south2.append(pred_winner(south1[2*i], south1[2*i+1]))\n",
    "        east2.append(pred_winner(east1[2*i], east1[2*i+1]))\n",
    "        midwest2.append(pred_winner(midwest1[2*i], midwest1[2*i+1]))\n",
    "        west2.append(pred_winner(west1[2*i], west1[2*i+1]))\n",
    "    \n",
    "    print(\"Round 2 winners: \")\n",
    "    print(south2)\n",
    "    print(east2)\n",
    "    print(midwest2)\n",
    "    print(west2)\n",
    "    \n",
    "    south3 = []\n",
    "    east3 = []\n",
    "    midwest3 = []\n",
    "    west3 = []\n",
    "    for i in range(int(len(south2)/2)):\n",
    "        south3.append(pred_winner(south2[2*i], south2[2*i+1]))\n",
    "        east3.append(pred_winner(east2[2*i], east2[2*i+1]))\n",
    "        midwest3.append(pred_winner(midwest2[2*i], midwest2[2*i+1]))\n",
    "        west3.append(pred_winner(west2[2*i], west2[2*i+1]))\n",
    "    \n",
    "    print(\"Sweet 16 winners: \")\n",
    "    print(south3)\n",
    "    print(east3)\n",
    "    print(midwest3)\n",
    "    print(west3)\n",
    "    \n",
    "    final4 = []\n",
    "    for i in range(int(len(south3)/2)):\n",
    "        final4.append(pred_winner(south3[2*i], south3[2*i+1]))\n",
    "        final4.append(pred_winner(east3[2*i], east3[2*i+1]))\n",
    "        final4.append(pred_winner(midwest3[2*i], midwest3[2*i+1]))\n",
    "        final4.append(pred_winner(west3[2*i], west3[2*i+1]))\n",
    "    \n",
    "    print(\"Elite 8 winners: \")\n",
    "    print(final4)\n",
    "    \n",
    "    final2 = []\n",
    "    for i in range(int(len(final4)/2)):\n",
    "        final2.append(pred_winner(final4[2*i], final4[2*i+1]))\n",
    "    \n",
    "    print(\"Final 4 winners: \")\n",
    "    print(final2)\n",
    "    \n",
    "    print(\"Champion:\")\n",
    "    print(pred_winner(final2[0], final2[1]))\n",
    "    \n",
    "    return        \n",
    "    "
   ]
  },
  {
   "cell_type": "code",
   "execution_count": 8,
   "id": "2087a907",
   "metadata": {},
   "outputs": [],
   "source": [
    "def first_four_winners(df, model):\n",
    "    FF = []\n",
    "    for index, row in df[df['Seed'] == 'FF'].iterrows():\n",
    "        FF.append(row['Team'])\n",
    "    \n",
    "    FFwinners = []\n",
    "    for i in range(int(len(FF)/2)):\n",
    "        winner = pred_winner(FF[2*i], FF[2*i+1])\n",
    "        FFwinners.append(winner)\n",
    "    \n",
    "    return FFwinners"
   ]
  },
  {
   "cell_type": "code",
   "execution_count": 9,
   "id": "31d6fe2c",
   "metadata": {},
   "outputs": [],
   "source": [
    "def pred_winner(name1, name2):\n",
    "    team1 = get_team_data(name1, 2023).drop(['TEAM', 'YEAR'], axis=1)\n",
    "    if (team1.empty):\n",
    "        print(name1)\n",
    "    team2 = get_team_data(name2, 2023).drop(['TEAM', 'YEAR'], axis=1)\n",
    "    if (team2.empty):\n",
    "        print(name2)\n",
    "    data = np.hstack([team1, team2])\n",
    "    prob = model(data)[:,1]\n",
    "    if prob > 0.5:\n",
    "        return name1\n",
    "    else:\n",
    "        return name2"
   ]
  },
  {
   "cell_type": "code",
   "execution_count": 65,
   "id": "e9d8f244",
   "metadata": {},
   "outputs": [],
   "source": [
    "def create_game_bracket():\n",
    "    games = [\"Finale\", \"FF1\", \"FF2\", \"EES\", \"EEE\", \"EEM\", \"EEW\", \"SSS1\", \"SSS2\", \"SSE1\", \"SSE2\", \"SSM1\", \"SSM2\", \"SSW1\", \"SSW2\",\n",
    "            \"R2S1\", \"R2S2\", \"R2S3\", \"R2S4\", \"R2E1\", \"R2E2\", \"R2E3\", \"R2E4\", \"R2M1\", \"R2M2\", \"R2M3\", \"R2M4\", \"R2W1\", \"R2W2\", \n",
    "            \"R2W3\", \"R2W4\", \"R1S1\", \"R1S2\", \"R1S3\", \"R1S4\", \"R1S5\", \"R1S6\", \"R1S7\", \"R1S8\", \"R1E1\", \"R1E2\", \"R1E3\", \"R1E4\", \n",
    "            \"R1E5\", \"R1E6\", \"R1E7\", \"R1E8\", \"R1M1\", \"R1M2\", \"R1M3\", \"R1M4\", \"R1M5\", \"R1M6\", \"R1M7\", \"R1M8\", \"R1W1\", \"R1W2\", \n",
    "            \"R1W3\", \"R1W4\", \"R1W5\", \"R1W6\", \"R1W7\", \"R1W8\", None, \"FFS\", None, None, None, None, None, None, None, None, None,\n",
    "            None, None, None, None, None, None, \"FFE\", None, None, None, None, None, None, None, None, None, None, None, None, \n",
    "            None, None, None, None, None, None, None, None, None, None, None, \"FFM\", None, None, None, None, None, None, None,\n",
    "            None, None, None, None, None, None, None, None,\"FFW\"]\n",
    "    \n",
    "    tree = bt.build(games)\n",
    "    return tree"
   ]
  },
  {
   "cell_type": "code",
   "execution_count": 67,
   "id": "7624d37b",
   "metadata": {},
   "outputs": [],
   "source": [
    "def process_bracket_tree(node, model):\n",
    "    numlist = [1,16,8,9,5,12,4,13,6,11,3,14,7,10,2,15]\n",
    "    df = pd.read_csv('2023bracket.csv')\n",
    "    \n",
    "    if (node.left == None) and (node.right == None):\n",
    "        if node.value[:2] == \"FF\":\n",
    "            print(\"First four\")\n",
    "        else:\n",
    "            division = node.value[2]\n",
    "            gameno = node.value[3]\n",
    "            print(division, gameno)\n",
    "    elif (node.left == None):\n",
    "        t1 = process_bracket_tree(node.right, model)\n",
    "    else:\n",
    "        t1 = process_bracket_tree(node.left, model)\n",
    "        t2 = process_bracket_tree(node.right, model)"
   ]
  },
  {
   "cell_type": "code",
   "execution_count": 68,
   "id": "4e6d950d",
   "metadata": {},
   "outputs": [
    {
     "name": "stdout",
     "output_type": "stream",
     "text": [
      "First four\n",
      "S 2\n",
      "S 3\n",
      "S 4\n",
      "S 5\n",
      "S 6\n",
      "S 7\n",
      "S 8\n",
      "First four\n",
      "E 2\n",
      "E 3\n",
      "E 4\n",
      "E 5\n",
      "E 6\n",
      "E 7\n",
      "E 8\n",
      "M 1\n",
      "M 2\n",
      "M 3\n",
      "M 4\n",
      "First four\n",
      "M 6\n",
      "M 7\n",
      "M 8\n",
      "W 1\n",
      "W 2\n",
      "W 3\n",
      "W 4\n",
      "First four\n",
      "W 6\n",
      "W 7\n",
      "W 8\n"
     ]
    }
   ],
   "source": [
    "root = create_game_bracket()\n",
    "process_bracket_tree(root, 1)"
   ]
  },
  {
   "cell_type": "code",
   "execution_count": 10,
   "id": "22b6ad79",
   "metadata": {},
   "outputs": [],
   "source": [
    "(games,teams,rv) = setup_dataframes()"
   ]
  },
  {
   "cell_type": "code",
   "execution_count": 11,
   "id": "cfc1ebc6",
   "metadata": {},
   "outputs": [],
   "source": [
    "game_data = assemble_game_data()\n",
    "score_data = assemble_response_data()\n",
    "X_train, X_test, y_train, y_test = train_test_split(game_data, score_data, test_size=0.2, random_state=1)"
   ]
  },
  {
   "cell_type": "code",
   "execution_count": 12,
   "id": "f3ed3c4c",
   "metadata": {},
   "outputs": [
    {
     "data": {
      "text/plain": [
       "0.4465408386566766"
      ]
     },
     "execution_count": 12,
     "metadata": {},
     "output_type": "execute_result"
    },
    {
     "data": {
      "image/png": "[encoded data removed]",
      "text/plain": [
       "<Figure size 640x480 with 1 Axes>"
      ]
     },
     "metadata": {},
     "output_type": "display_data"
    }
   ],
   "source": [
    "regr = MLPRegressor(random_state=1).fit(X_train, y_train)\n",
    "\n",
    "pred = regr.predict(X_test)\n",
    "plt.scatter(y_test, pred)\n",
    "regr.score(X_test, y_test)"
   ]
  },
  {
   "cell_type": "code",
   "execution_count": 13,
   "id": "969cdbd9",
   "metadata": {},
   "outputs": [],
   "source": [
    "win_data = (np.sign(score_data) + 1)/2"
   ]
  },
  {
   "cell_type": "code",
   "execution_count": 14,
   "id": "73b53f58",
   "metadata": {},
   "outputs": [
    {
     "name": "stdout",
     "output_type": "stream",
     "text": [
      "Model: \"sequential\"\n",
      "_________________________________________________________________\n",
      " Layer (type)                Output Shape              Param #   \n",
      "=================================================================\n",
      " dense (Dense)               (None, None, 1000)        39000     \n",
      "                                                                 \n",
      " dropout (Dropout)           (None, None, 1000)        0         \n",
      "                                                                 \n",
      " dense_1 (Dense)             (None, None, 500)         500500    \n",
      "                                                                 \n",
      " dropout_1 (Dropout)         (None, None, 500)         0         \n",
      "                                                                 \n",
      " dense_2 (Dense)             (None, None, 250)         125250    \n",
      "                                                                 \n",
      " dense_3 (Dense)             (None, None, 2)           502       \n",
      "                                                                 \n",
      "=================================================================\n",
      "Total params: 665252 (2.54 MB)\n",
      "Trainable params: 665252 (2.54 MB)\n",
      "Non-trainable params: 0 (0.00 Byte)\n",
      "_________________________________________________________________\n"
     ]
    }
   ],
   "source": [
    "layers = [tf.keras.Input(shape=(None,38)), Dense(1000, activation=\"relu\"), Dropout(0.1), Dense(500, activation=\"relu\"), Dropout(0.2), Dense(250, activation=\"relu\"), Dense(2, activation=\"softmax\")]\n",
    "model = tf.keras.models.Sequential(layers)\n",
    "model.summary()"
   ]
  },
  {
   "cell_type": "code",
   "execution_count": 15,
   "id": "ad4d79a6",
   "metadata": {},
   "outputs": [
    {
     "name": "stdout",
     "output_type": "stream",
     "text": [
      "Epoch 1/50\n",
      "17/17 [==============================] - 4s 23ms/step - loss: 8.3998 - accuracy: 0.5327\n",
      "Epoch 2/50\n",
      "17/17 [==============================] - 0s 22ms/step - loss: 1.5093 - accuracy: 0.4953\n",
      "Epoch 3/50\n",
      "17/17 [==============================] - 0s 21ms/step - loss: 0.8388 - accuracy: 0.5458\n",
      "Epoch 4/50\n",
      "17/17 [==============================] - 0s 21ms/step - loss: 0.7065 - accuracy: 0.5813\n",
      "Epoch 5/50\n",
      "17/17 [==============================] - 0s 22ms/step - loss: 0.7852 - accuracy: 0.5215\n",
      "Epoch 6/50\n",
      "17/17 [==============================] - 0s 21ms/step - loss: 0.6875 - accuracy: 0.6206\n",
      "Epoch 7/50\n",
      "17/17 [==============================] - 0s 20ms/step - loss: 0.6857 - accuracy: 0.6037\n",
      "Epoch 8/50\n",
      "17/17 [==============================] - 0s 21ms/step - loss: 0.6146 - accuracy: 0.6579\n",
      "Epoch 9/50\n",
      "17/17 [==============================] - 0s 21ms/step - loss: 0.6130 - accuracy: 0.6879\n",
      "Epoch 10/50\n",
      "17/17 [==============================] - 0s 21ms/step - loss: 0.6667 - accuracy: 0.6411\n",
      "Epoch 11/50\n",
      "17/17 [==============================] - 0s 21ms/step - loss: 0.6266 - accuracy: 0.6617\n",
      "Epoch 12/50\n",
      "17/17 [==============================] - 0s 20ms/step - loss: 0.5776 - accuracy: 0.7009\n",
      "Epoch 13/50\n",
      "17/17 [==============================] - 0s 21ms/step - loss: 0.5406 - accuracy: 0.7215\n",
      "Epoch 14/50\n",
      "17/17 [==============================] - 0s 21ms/step - loss: 0.5742 - accuracy: 0.6916\n",
      "Epoch 15/50\n",
      "17/17 [==============================] - 0s 22ms/step - loss: 0.5827 - accuracy: 0.6916\n",
      "Epoch 16/50\n",
      "17/17 [==============================] - 0s 22ms/step - loss: 0.5470 - accuracy: 0.7271\n",
      "Epoch 17/50\n",
      "17/17 [==============================] - 0s 22ms/step - loss: 0.5385 - accuracy: 0.7159\n",
      "Epoch 18/50\n",
      "17/17 [==============================] - 0s 22ms/step - loss: 0.5713 - accuracy: 0.6972\n",
      "Epoch 19/50\n",
      "17/17 [==============================] - 0s 21ms/step - loss: 0.5400 - accuracy: 0.7196\n",
      "Epoch 20/50\n",
      "17/17 [==============================] - 0s 21ms/step - loss: 0.5126 - accuracy: 0.7346\n",
      "Epoch 21/50\n",
      "17/17 [==============================] - 0s 20ms/step - loss: 0.5757 - accuracy: 0.6916\n",
      "Epoch 22/50\n",
      "17/17 [==============================] - 0s 21ms/step - loss: 0.5463 - accuracy: 0.7121\n",
      "Epoch 23/50\n",
      "17/17 [==============================] - 0s 22ms/step - loss: 0.5263 - accuracy: 0.7215\n",
      "Epoch 24/50\n",
      "17/17 [==============================] - 0s 22ms/step - loss: 0.5534 - accuracy: 0.7271\n",
      "Epoch 25/50\n",
      "17/17 [==============================] - 0s 21ms/step - loss: 0.5365 - accuracy: 0.7178\n",
      "Epoch 26/50\n",
      "17/17 [==============================] - 0s 21ms/step - loss: 0.5290 - accuracy: 0.7252\n",
      "Epoch 27/50\n",
      "17/17 [==============================] - 0s 21ms/step - loss: 0.5176 - accuracy: 0.7346\n",
      "Epoch 28/50\n",
      "17/17 [==============================] - 0s 20ms/step - loss: 0.5003 - accuracy: 0.7402\n",
      "Epoch 29/50\n",
      "17/17 [==============================] - 0s 20ms/step - loss: 0.4873 - accuracy: 0.7626\n",
      "Epoch 30/50\n",
      "17/17 [==============================] - 0s 23ms/step - loss: 0.5034 - accuracy: 0.7477\n",
      "Epoch 31/50\n",
      "17/17 [==============================] - 0s 24ms/step - loss: 0.5183 - accuracy: 0.7495\n",
      "Epoch 32/50\n",
      "17/17 [==============================] - 0s 21ms/step - loss: 0.4904 - accuracy: 0.7421\n",
      "Epoch 33/50\n",
      "17/17 [==============================] - 0s 21ms/step - loss: 0.5130 - accuracy: 0.7607\n",
      "Epoch 34/50\n",
      "17/17 [==============================] - 0s 22ms/step - loss: 0.4877 - accuracy: 0.7570\n",
      "Epoch 35/50\n",
      "17/17 [==============================] - 0s 22ms/step - loss: 0.5869 - accuracy: 0.6804\n",
      "Epoch 36/50\n",
      "17/17 [==============================] - 0s 21ms/step - loss: 0.5507 - accuracy: 0.7271\n",
      "Epoch 37/50\n",
      "17/17 [==============================] - 0s 21ms/step - loss: 0.5119 - accuracy: 0.7346\n",
      "Epoch 38/50\n",
      "17/17 [==============================] - 0s 21ms/step - loss: 0.5367 - accuracy: 0.7364\n",
      "Epoch 39/50\n",
      "17/17 [==============================] - 0s 22ms/step - loss: 0.5095 - accuracy: 0.7439\n",
      "Epoch 40/50\n",
      "17/17 [==============================] - 0s 21ms/step - loss: 0.5146 - accuracy: 0.7252\n",
      "Epoch 41/50\n",
      "17/17 [==============================] - 0s 21ms/step - loss: 0.5455 - accuracy: 0.7103\n",
      "Epoch 42/50\n",
      "17/17 [==============================] - 0s 22ms/step - loss: 0.5339 - accuracy: 0.7364\n",
      "Epoch 43/50\n",
      "17/17 [==============================] - 0s 21ms/step - loss: 0.5432 - accuracy: 0.7159\n",
      "Epoch 44/50\n",
      "17/17 [==============================] - 0s 21ms/step - loss: 0.4779 - accuracy: 0.7607\n",
      "Epoch 45/50\n",
      "17/17 [==============================] - 0s 20ms/step - loss: 0.5026 - accuracy: 0.7551\n",
      "Epoch 46/50\n",
      "17/17 [==============================] - 0s 21ms/step - loss: 0.5345 - accuracy: 0.7215\n",
      "Epoch 47/50\n",
      "17/17 [==============================] - 0s 22ms/step - loss: 0.5013 - accuracy: 0.7626\n",
      "Epoch 48/50\n",
      "17/17 [==============================] - 0s 21ms/step - loss: 0.5030 - accuracy: 0.7308\n",
      "Epoch 49/50\n",
      "17/17 [==============================] - 0s 21ms/step - loss: 0.4979 - accuracy: 0.7402\n",
      "Epoch 50/50\n",
      "17/17 [==============================] - 0s 22ms/step - loss: 0.4723 - accuracy: 0.7533\n"
     ]
    }
   ],
   "source": [
    "n_epochs = 50\n",
    "model.compile(optimizer=\"adam\", loss='sparse_categorical_crossentropy', metrics=['accuracy'])\n",
    "history = model.fit(game_data, win_data, epochs=n_epochs)"
   ]
  },
  {
   "cell_type": "code",
   "execution_count": 16,
   "id": "b35ee25b",
   "metadata": {},
   "outputs": [
    {
     "data": {
      "text/plain": [
       "array([[200,  79],\n",
       "       [ 33, 223]], dtype=int64)"
      ]
     },
     "execution_count": 16,
     "metadata": {},
     "output_type": "execute_result"
    }
   ],
   "source": [
    "pred = model(game_data)\n",
    "confusion_matrix(win_data, np.round(pred[:,1]))"
   ]
  },
  {
   "cell_type": "code",
   "execution_count": 24,
   "id": "e1305b8d",
   "metadata": {},
   "outputs": [
    {
     "data": {
      "text/plain": [
       "<matplotlib.lines.Line2D at 0x2ac31105bd0>"
      ]
     },
     "execution_count": 24,
     "metadata": {},
     "output_type": "execute_result"
    },
    {
     "data": {
      "image/png": "[encoded data removed]",
      "text/plain": [
       "<Figure size 640x480 with 1 Axes>"
      ]
     },
     "metadata": {},
     "output_type": "display_data"
    }
   ],
   "source": [
    "plt.scatter(score_data, pred[:,1])\n",
    "plt.axhline(0.5, c=\"black\")\n",
    "plt.axvline(0.5, c=\"black\")"
   ]
  },
  {
   "cell_type": "code",
   "execution_count": 18,
   "id": "db0f1487",
   "metadata": {},
   "outputs": [
    {
     "data": {
      "text/plain": [
       "<matplotlib.collections.PathCollection at 0x2ac30cfe7a0>"
      ]
     },
     "execution_count": 18,
     "metadata": {},
     "output_type": "execute_result"
    },
    {
     "data": {
      "image/png": "[encoded data removed]",
      "text/plain": [
       "<Figure size 640x480 with 1 Axes>"
      ]
     },
     "metadata": {},
     "output_type": "display_data"
    }
   ],
   "source": [
    "cutoffs = np.linspace(0, 1, 100)\n",
    "accuracies = []\n",
    "for cutoff in cutoffs:\n",
    "    pred1 = np.ceil(pred[:,1] - cutoff)\n",
    "    accuracies.append(accuracy_score(win_data, pred1))\n",
    "    \n",
    "plt.scatter(cutoffs, accuracies)"
   ]
  },
  {
   "cell_type": "code",
   "execution_count": 19,
   "id": "ed593d16",
   "metadata": {},
   "outputs": [
    {
     "name": "stdout",
     "output_type": "stream",
     "text": [
      "First four winners: ['Texas A&M Corpus Chris', 'Fairleigh Dickinson', 'Pittsburgh', 'Arizona St.']\n",
      "Round 1 winners: \n",
      "['Alabama', 'Maryland', 'San Diego St.', 'Virginia', 'Creighton', 'Baylor', 'Missouri', 'Arizona']\n",
      "['Purdue', 'Florida Atlantic', 'Duke', 'Tennessee', 'Kentucky', 'Kansas St.', 'Michigan St.', 'Marquette']\n",
      "['Houston', 'Auburn', 'Miami FL', 'Indiana', 'Iowa St.', 'Xavier', 'Texas A&M', 'Texas']\n",
      "['Kansas', 'Arkansas', \"Saint Mary's\", 'Connecticut', 'TCU', 'Gonzaga', 'Northwestern', 'UCLA']\n",
      "Round 2 winners: \n",
      "['Alabama', 'San Diego St.', 'Baylor', 'Missouri']\n",
      "['Florida Atlantic', 'Duke', 'Kansas St.', 'Marquette']\n",
      "['Houston', 'Miami FL', 'Xavier', 'Texas']\n",
      "['Kansas', 'Connecticut', 'Gonzaga', 'UCLA']\n",
      "Sweet 16 winners: \n",
      "['Alabama', 'Baylor']\n",
      "['Florida Atlantic', 'Marquette']\n",
      "['Houston', 'Texas']\n",
      "['Kansas', 'Gonzaga']\n",
      "Elite 8 winners: \n",
      "['Alabama', 'Florida Atlantic', 'Houston', 'Kansas']\n",
      "Final 4 winners: \n",
      "['Alabama', 'Houston']\n",
      "Champion:\n",
      "Houston\n"
     ]
    }
   ],
   "source": [
    "process_bracket(model)"
   ]
  }
 ],
 "metadata": {
  "kernelspec": {
   "display_name": "470_tensorflow_env",
   "language": "python",
   "name": "470_tensorflow_env"
  },
  "language_info": {
   "codemirror_mode": {
    "name": "ipython",
    "version": 3
   },
   "file_extension": ".py",
   "mimetype": "text/x-python",
   "name": "python",
   "nbconvert_exporter": "python",
   "pygments_lexer": "ipython3",
   "version": "3.10.13"
  }
 },
 "nbformat": 4,
 "nbformat_minor": 5
}
