{
 "cells": [
  {
   "cell_type": "code",
   "execution_count": 1,
   "id": "9b0f558a",
   "metadata": {},
   "outputs": [],
   "source": [
    "import pandas as pd\n",
    "import numpy as np\n",
    "from sklearn.model_selection import train_test_split\n",
    "from sklearn.neural_network import MLPRegressor\n",
    "from sklearn.metrics import confusion_matrix, accuracy_score\n",
    "import matplotlib.pyplot as plt\n",
    "import math\n",
    "import tensorflow as tf\n",
    "from tensorflow.keras.layers import Dense, Dropout"
   ]
  },
  {
   "cell_type": "code",
   "execution_count": 2,
   "id": "b8477698",
   "metadata": {
    "scrolled": false
   },
   "outputs": [],
   "source": [
    "def setup_dataframes():\n",
    "    df = pd.read_csv('MM_game_data.csv')\n",
    "    df = df[df['YEAR'] >= 2013]\n",
    "    df = df[df['YEAR'] <= 2023]\n",
    "    np.unique(df['YEAR'])\n",
    "    games = df.drop(['ROUND'], axis=1)\n",
    "    \n",
    "    df = pd.read_csv('cbb.csv')\n",
    "    df = df[df['SEED'] > 0]\n",
    "    df = df[df['YEAR'] <= 2023]\n",
    "    teams = df.drop(['CONF', 'POSTSEASON', 'SEED'], axis=1)\n",
    "    \n",
    "    rv = np.floor(np.random.rand(len(games))*2)\n",
    "    \n",
    "    return (games,teams,rv)"
   ]
  },
  {
   "cell_type": "code",
   "execution_count": 3,
   "id": "9db46b5b",
   "metadata": {},
   "outputs": [],
   "source": [
    "def get_team_data(team, year):\n",
    "    all_years = teams.loc[teams['TEAM'] == team]\n",
    "    specific_year = all_years.loc[all_years['YEAR'] == year]\n",
    "    return specific_year"
   ]
  },
  {
   "cell_type": "code",
   "execution_count": 4,
   "id": "ce9ea836",
   "metadata": {
    "scrolled": true
   },
   "outputs": [],
   "source": [
    "def assemble_game_data():\n",
    "    game_data = np.zeros(shape=(len(games), 38))\n",
    "    for i in range(0,len(games)):\n",
    "        wdata = get_team_data(games.iloc[i]['WTEAM'], games.iloc[i]['YEAR']).drop(['TEAM', 'YEAR'], axis=1)\n",
    "        ldata = get_team_data(games.iloc[i]['LTEAM'], games.iloc[i]['YEAR']).drop(['TEAM', 'YEAR'], axis=1)\n",
    "        if rv[i] == 0:\n",
    "            game_data[i] = np.hstack([wdata, ldata])\n",
    "        else:\n",
    "            game_data[i] = np.hstack([ldata, wdata])\n",
    "    return game_data"
   ]
  },
  {
   "cell_type": "code",
   "execution_count": 5,
   "id": "e220ec1a",
   "metadata": {},
   "outputs": [],
   "source": [
    "def assemble_response_data():\n",
    "    score_diff = []\n",
    "    for i in range(0,len(games)):\n",
    "        if rv[i] == 0:\n",
    "            score_diff.append(games.iloc[i]['WSCORE'] - games.iloc[i]['LSCORE'])\n",
    "        else:\n",
    "            score_diff.append(games.iloc[i]['LSCORE'] - games.iloc[i]['WSCORE'])\n",
    "    return score_diff"
   ]
  },
  {
   "cell_type": "code",
   "execution_count": 6,
   "id": "60f789bd",
   "metadata": {},
   "outputs": [],
   "source": [
    "def get_invalid_team_names():\n",
    "    wrong_names = []\n",
    "\n",
    "    for i in range(0,len(games)):\n",
    "        wdata = get_team_data(games.iloc[i]['WTEAM'], games.iloc[i]['YEAR'])\n",
    "        if wdata.empty:\n",
    "            wrong_names.append(games.iloc[i]['WTEAM'])\n",
    "        ldata = get_team_data(games.iloc[i]['LTEAM'], games.iloc[i]['YEAR'])\n",
    "        if ldata.empty:\n",
    "            wrong_names.append(games.iloc[i]['LTEAM'])\n",
    "    return np.unique(wrong_names)"
   ]
  },
  {
   "cell_type": "code",
   "execution_count": 7,
   "id": "5917d0b8",
   "metadata": {},
   "outputs": [],
   "source": [
    "def process_bracket(model):\n",
    "    numlist = [1,16,8,9,5,12,4,13,6,11,3,14,7,10,2,15]\n",
    "    df = pd.read_csv('2023bracket.csv')\n",
    "    \n",
    "    FF = first_four_winners(df, model) \n",
    "    print(\"First four winners: \" + str(FF))\n",
    "    south = [None] * 16\n",
    "    east = [None] * 16\n",
    "    midwest = [None] * 16\n",
    "    west = [None] * 16\n",
    "    \n",
    "    for i in range(16):\n",
    "        if i == 15:\n",
    "            south[numlist.index(i+1)] = FF[0]\n",
    "            east[numlist.index(i+1)] = FF[1]\n",
    "        else:\n",
    "            southdata = df.loc[(df['Division'] == 'South') & (df['Seed'] == str(i+1))]\n",
    "            south[numlist.index(i+1)] = str(southdata.iloc[0]['Team'])\n",
    "            eastdata = df.loc[(df['Division'] == 'East') & (df['Seed'] == str(i+1))]\n",
    "            east[numlist.index(i+1)] = str(eastdata.iloc[0]['Team'])\n",
    "        if i == 10:\n",
    "            midwest[numlist.index(i+1)] = FF[2]\n",
    "            west[numlist.index(i+1)] = FF[3]\n",
    "        else:\n",
    "            midwestdata = df.loc[(df['Division'] == 'Midwest') & (df['Seed'] == str(i+1))]\n",
    "            midwest[numlist.index(i+1)] = str(midwestdata.iloc[0]['Team'])\n",
    "            westdata = df.loc[(df['Division'] == 'West') & (df['Seed'] == str(i+1))]\n",
    "            west[numlist.index(i+1)] = str(westdata.iloc[0]['Team'])\n",
    "            \n",
    "    south1 = []\n",
    "    east1 = []\n",
    "    midwest1 = []\n",
    "    west1 = []\n",
    "    for i in range(int(len(south)/2)):\n",
    "        south1.append(pred_winner(south[2*i], south[2*i+1]))\n",
    "        east1.append(pred_winner(east[2*i], east[2*i+1]))\n",
    "        midwest1.append(pred_winner(midwest[2*i], midwest[2*i+1]))\n",
    "        west1.append(pred_winner(west[2*i], west[2*i+1]))\n",
    "    \n",
    "    print(\"Round 1 winners: \")\n",
    "    print(south1)\n",
    "    print(east1)\n",
    "    print(midwest1)\n",
    "    print(west1)\n",
    "    \n",
    "    south2 = []\n",
    "    east2 = []\n",
    "    midwest2 = []\n",
    "    west2 = []\n",
    "    for i in range(int(len(south1)/2)):\n",
    "        south2.append(pred_winner(south1[2*i], south1[2*i+1]))\n",
    "        east2.append(pred_winner(east1[2*i], east1[2*i+1]))\n",
    "        midwest2.append(pred_winner(midwest1[2*i], midwest1[2*i+1]))\n",
    "        west2.append(pred_winner(west1[2*i], west1[2*i+1]))\n",
    "    \n",
    "    print(\"Round 2 winners: \")\n",
    "    print(south2)\n",
    "    print(east2)\n",
    "    print(midwest2)\n",
    "    print(west2)\n",
    "    \n",
    "    south3 = []\n",
    "    east3 = []\n",
    "    midwest3 = []\n",
    "    west3 = []\n",
    "    for i in range(int(len(south2)/2)):\n",
    "        south3.append(pred_winner(south2[2*i], south2[2*i+1]))\n",
    "        east3.append(pred_winner(east2[2*i], east2[2*i+1]))\n",
    "        midwest3.append(pred_winner(midwest2[2*i], midwest2[2*i+1]))\n",
    "        west3.append(pred_winner(west2[2*i], west2[2*i+1]))\n",
    "    \n",
    "    print(\"Sweet 16 winners: \")\n",
    "    print(south3)\n",
    "    print(east3)\n",
    "    print(midwest3)\n",
    "    print(west3)\n",
    "    \n",
    "    final4 = []\n",
    "    for i in range(int(len(south3)/2)):\n",
    "        final4.append(pred_winner(south3[2*i], south3[2*i+1]))\n",
    "        final4.append(pred_winner(east3[2*i], east3[2*i+1]))\n",
    "        final4.append(pred_winner(midwest3[2*i], midwest3[2*i+1]))\n",
    "        final4.append(pred_winner(west3[2*i], west3[2*i+1]))\n",
    "    \n",
    "    print(\"Elite 8 winners: \")\n",
    "    print(final4)\n",
    "    \n",
    "    final2 = []\n",
    "    for i in range(int(len(final4)/2)):\n",
    "        final2.append(pred_winner(final4[2*i], final4[2*i+1]))\n",
    "    \n",
    "    print(\"Final 4 winners: \")\n",
    "    print(final2)\n",
    "    \n",
    "    print(\"Champion:\")\n",
    "    print(pred_winner(final2[0], final2[1]))\n",
    "    \n",
    "    return        \n",
    "    "
   ]
  },
  {
   "cell_type": "code",
   "execution_count": 8,
   "id": "2087a907",
   "metadata": {},
   "outputs": [],
   "source": [
    "def first_four_winners(df, model):\n",
    "    FF = []\n",
    "    for index, row in df[df['Seed'] == 'FF'].iterrows():\n",
    "        FF.append(row['Team'])\n",
    "    \n",
    "    FFwinners = []\n",
    "    for i in range(int(len(FF)/2)):\n",
    "        winner = pred_winner(FF[2*i], FF[2*i+1])\n",
    "        FFwinners.append(winner)\n",
    "    \n",
    "    return FFwinners"
   ]
  },
  {
   "cell_type": "code",
   "execution_count": 9,
   "id": "31d6fe2c",
   "metadata": {},
   "outputs": [],
   "source": [
    "def pred_winner(name1, name2):\n",
    "    team1 = get_team_data(name1, 2023).drop(['TEAM', 'YEAR'], axis=1)\n",
    "    if (team1.empty):\n",
    "        print(name1)\n",
    "    team2 = get_team_data(name2, 2023).drop(['TEAM', 'YEAR'], axis=1)\n",
    "    if (team2.empty):\n",
    "        print(name2)\n",
    "    data = np.hstack([team1, team2])\n",
    "    prob = model(data)[:,1]\n",
    "    if prob > 0.5:\n",
    "        return name1\n",
    "    else:\n",
    "        return name2"
   ]
  },
  {
   "cell_type": "code",
   "execution_count": 10,
   "id": "22b6ad79",
   "metadata": {},
   "outputs": [],
   "source": [
    "(games,teams,rv) = setup_dataframes()"
   ]
  },
  {
   "cell_type": "code",
   "execution_count": 11,
   "id": "cfc1ebc6",
   "metadata": {},
   "outputs": [],
   "source": [
    "game_data = assemble_game_data()\n",
    "score_data = assemble_response_data()\n",
    "X_train, X_test, y_train, y_test = train_test_split(game_data, score_data, test_size=0.2, random_state=1)"
   ]
  },
  {
   "cell_type": "code",
   "execution_count": 12,
   "id": "f3ed3c4c",
   "metadata": {},
   "outputs": [
    {
     "data": {
      "text/plain": [
       "0.47382217572574026"
      ]
     },
     "execution_count": 12,
     "metadata": {},
     "output_type": "execute_result"
    },
    {
     "data": {
      "image/png": "[encoded data removed]",
      "text/plain": [
       "<Figure size 640x480 with 1 Axes>"
      ]
     },
     "metadata": {},
     "output_type": "display_data"
    }
   ],
   "source": [
    "regr = MLPRegressor(random_state=1).fit(X_train, y_train)\n",
    "\n",
    "pred = regr.predict(X_test)\n",
    "plt.scatter(y_test, pred)\n",
    "regr.score(X_test, y_test)"
   ]
  },
  {
   "cell_type": "code",
   "execution_count": 13,
   "id": "969cdbd9",
   "metadata": {},
   "outputs": [],
   "source": [
    "win_data = (np.sign(score_data) + 1)/2"
   ]
  },
  {
   "cell_type": "code",
   "execution_count": 14,
   "id": "73b53f58",
   "metadata": {},
   "outputs": [
    {
     "name": "stdout",
     "output_type": "stream",
     "text": [
      "Model: \"sequential\"\n",
      "_________________________________________________________________\n",
      " Layer (type)                Output Shape              Param #   \n",
      "=================================================================\n",
      " dense (Dense)               (None, None, 1000)        39000     \n",
      "                                                                 \n",
      " dropout (Dropout)           (None, None, 1000)        0         \n",
      "                                                                 \n",
      " dense_1 (Dense)             (None, None, 500)         500500    \n",
      "                                                                 \n",
      " dropout_1 (Dropout)         (None, None, 500)         0         \n",
      "                                                                 \n",
      " dense_2 (Dense)             (None, None, 250)         125250    \n",
      "                                                                 \n",
      " dense_3 (Dense)             (None, None, 2)           502       \n",
      "                                                                 \n",
      "=================================================================\n",
      "Total params: 665252 (2.54 MB)\n",
      "Trainable params: 665252 (2.54 MB)\n",
      "Non-trainable params: 0 (0.00 Byte)\n",
      "_________________________________________________________________\n"
     ]
    }
   ],
   "source": [
    "layers = [tf.keras.Input(shape=(None,38)), Dense(1000, activation=\"relu\"), Dropout(0.1), Dense(500, activation=\"relu\"), Dropout(0.2), Dense(250, activation=\"relu\"), Dense(2, activation=\"softmax\")]\n",
    "model = tf.keras.models.Sequential(layers)\n",
    "model.summary()"
   ]
  },
  {
   "cell_type": "code",
   "execution_count": 15,
   "id": "ad4d79a6",
   "metadata": {},
   "outputs": [
    {
     "name": "stdout",
     "output_type": "stream",
     "text": [
      "Epoch 1/50\n",
      "17/17 [==============================] - 1s 7ms/step - loss: 9.6277 - accuracy: 0.5047\n",
      "Epoch 2/50\n",
      "17/17 [==============================] - 0s 7ms/step - loss: 1.1419 - accuracy: 0.5290\n",
      "Epoch 3/50\n",
      "17/17 [==============================] - 0s 7ms/step - loss: 0.8369 - accuracy: 0.5514\n",
      "Epoch 4/50\n",
      "17/17 [==============================] - 0s 7ms/step - loss: 0.7280 - accuracy: 0.6000\n",
      "Epoch 5/50\n",
      "17/17 [==============================] - 0s 7ms/step - loss: 0.7534 - accuracy: 0.5757\n",
      "Epoch 6/50\n",
      "17/17 [==============================] - 0s 7ms/step - loss: 0.7120 - accuracy: 0.6112\n",
      "Epoch 7/50\n",
      "17/17 [==============================] - 0s 8ms/step - loss: 0.6753 - accuracy: 0.6336\n",
      "Epoch 8/50\n",
      "17/17 [==============================] - 0s 8ms/step - loss: 0.6671 - accuracy: 0.6411\n",
      "Epoch 9/50\n",
      "17/17 [==============================] - 0s 8ms/step - loss: 0.6473 - accuracy: 0.6224\n",
      "Epoch 10/50\n",
      "17/17 [==============================] - 0s 8ms/step - loss: 0.5790 - accuracy: 0.6785\n",
      "Epoch 11/50\n",
      "17/17 [==============================] - 0s 7ms/step - loss: 0.6537 - accuracy: 0.6318\n",
      "Epoch 12/50\n",
      "17/17 [==============================] - 0s 7ms/step - loss: 0.6103 - accuracy: 0.6318\n",
      "Epoch 13/50\n",
      "17/17 [==============================] - 0s 7ms/step - loss: 0.5696 - accuracy: 0.7215\n",
      "Epoch 14/50\n",
      "17/17 [==============================] - 0s 8ms/step - loss: 0.5506 - accuracy: 0.7196\n",
      "Epoch 15/50\n",
      "17/17 [==============================] - 0s 8ms/step - loss: 0.6133 - accuracy: 0.6879\n",
      "Epoch 16/50\n",
      "17/17 [==============================] - 0s 9ms/step - loss: 0.5614 - accuracy: 0.7047\n",
      "Epoch 17/50\n",
      "17/17 [==============================] - 0s 8ms/step - loss: 0.5619 - accuracy: 0.7065\n",
      "Epoch 18/50\n",
      "17/17 [==============================] - 0s 8ms/step - loss: 0.5587 - accuracy: 0.6972\n",
      "Epoch 19/50\n",
      "17/17 [==============================] - 0s 9ms/step - loss: 0.5498 - accuracy: 0.7028\n",
      "Epoch 20/50\n",
      "17/17 [==============================] - 0s 9ms/step - loss: 0.5869 - accuracy: 0.7065\n",
      "Epoch 21/50\n",
      "17/17 [==============================] - 0s 9ms/step - loss: 0.5227 - accuracy: 0.7271\n",
      "Epoch 22/50\n",
      "17/17 [==============================] - 0s 9ms/step - loss: 0.5520 - accuracy: 0.7215\n",
      "Epoch 23/50\n",
      "17/17 [==============================] - 0s 10ms/step - loss: 0.5945 - accuracy: 0.6710\n",
      "Epoch 24/50\n",
      "17/17 [==============================] - 0s 10ms/step - loss: 0.5291 - accuracy: 0.7103\n",
      "Epoch 25/50\n",
      "17/17 [==============================] - 0s 11ms/step - loss: 0.5252 - accuracy: 0.7140\n",
      "Epoch 26/50\n",
      "17/17 [==============================] - 0s 10ms/step - loss: 0.5075 - accuracy: 0.7551\n",
      "Epoch 27/50\n",
      "17/17 [==============================] - 0s 10ms/step - loss: 0.5801 - accuracy: 0.6935\n",
      "Epoch 28/50\n",
      "17/17 [==============================] - 0s 9ms/step - loss: 0.5432 - accuracy: 0.7047\n",
      "Epoch 29/50\n",
      "17/17 [==============================] - 0s 8ms/step - loss: 0.6019 - accuracy: 0.6804\n",
      "Epoch 30/50\n",
      "17/17 [==============================] - 0s 9ms/step - loss: 0.5216 - accuracy: 0.7215\n",
      "Epoch 31/50\n",
      "17/17 [==============================] - 0s 8ms/step - loss: 0.5337 - accuracy: 0.7402\n",
      "Epoch 32/50\n",
      "17/17 [==============================] - 0s 8ms/step - loss: 0.5358 - accuracy: 0.7159\n",
      "Epoch 33/50\n",
      "17/17 [==============================] - 0s 8ms/step - loss: 0.5074 - accuracy: 0.7346\n",
      "Epoch 34/50\n",
      "17/17 [==============================] - 0s 8ms/step - loss: 0.5889 - accuracy: 0.7140\n",
      "Epoch 35/50\n",
      "17/17 [==============================] - 0s 8ms/step - loss: 0.5353 - accuracy: 0.7196\n",
      "Epoch 36/50\n",
      "17/17 [==============================] - 0s 8ms/step - loss: 0.5348 - accuracy: 0.7271\n",
      "Epoch 37/50\n",
      "17/17 [==============================] - 0s 8ms/step - loss: 0.5051 - accuracy: 0.7421\n",
      "Epoch 38/50\n",
      "17/17 [==============================] - 0s 9ms/step - loss: 0.5065 - accuracy: 0.7551\n",
      "Epoch 39/50\n",
      "17/17 [==============================] - 0s 8ms/step - loss: 0.5203 - accuracy: 0.7271\n",
      "Epoch 40/50\n",
      "17/17 [==============================] - 0s 8ms/step - loss: 0.5281 - accuracy: 0.7346\n",
      "Epoch 41/50\n",
      "17/17 [==============================] - 0s 8ms/step - loss: 0.5187 - accuracy: 0.7308\n",
      "Epoch 42/50\n",
      "17/17 [==============================] - 0s 9ms/step - loss: 0.4856 - accuracy: 0.7570\n",
      "Epoch 43/50\n",
      "17/17 [==============================] - 0s 9ms/step - loss: 0.4950 - accuracy: 0.7533\n",
      "Epoch 44/50\n",
      "17/17 [==============================] - 0s 10ms/step - loss: 0.5075 - accuracy: 0.7364\n",
      "Epoch 45/50\n",
      "17/17 [==============================] - 0s 10ms/step - loss: 0.5174 - accuracy: 0.7514\n",
      "Epoch 46/50\n",
      "17/17 [==============================] - 0s 10ms/step - loss: 0.5048 - accuracy: 0.7458\n",
      "Epoch 47/50\n",
      "17/17 [==============================] - 0s 11ms/step - loss: 0.4910 - accuracy: 0.7551\n",
      "Epoch 48/50\n",
      "17/17 [==============================] - 0s 11ms/step - loss: 0.5105 - accuracy: 0.7421\n",
      "Epoch 49/50\n",
      "17/17 [==============================] - 0s 8ms/step - loss: 0.5689 - accuracy: 0.6972\n",
      "Epoch 50/50\n",
      "17/17 [==============================] - 0s 9ms/step - loss: 0.5109 - accuracy: 0.7402\n"
     ]
    }
   ],
   "source": [
    "n_epochs = 50\n",
    "model.compile(optimizer=\"adam\", loss='sparse_categorical_crossentropy', metrics=['accuracy'])\n",
    "history = model.fit(game_data, win_data, epochs=n_epochs)"
   ]
  },
  {
   "cell_type": "code",
   "execution_count": 16,
   "id": "b35ee25b",
   "metadata": {},
   "outputs": [
    {
     "data": {
      "text/plain": [
       "array([[144, 101],\n",
       "       [ 18, 272]], dtype=int64)"
      ]
     },
     "execution_count": 16,
     "metadata": {},
     "output_type": "execute_result"
    }
   ],
   "source": [
    "pred = model(game_data)\n",
    "#confusion_matrix(win_data, pred)\n",
    "confusion_matrix(win_data, np.round(pred[:,1]))"
   ]
  },
  {
   "cell_type": "code",
   "execution_count": 17,
   "id": "e1305b8d",
   "metadata": {},
   "outputs": [
    {
     "data": {
      "text/plain": [
       "<matplotlib.collections.PathCollection at 0x1a935039690>"
      ]
     },
     "execution_count": 17,
     "metadata": {},
     "output_type": "execute_result"
    },
    {
     "data": {
      "image/png": "[encoded data removed]",
      "text/plain": [
       "<Figure size 640x480 with 1 Axes>"
      ]
     },
     "metadata": {},
     "output_type": "display_data"
    }
   ],
   "source": [
    "plt.scatter(score_data, win_data)\n",
    "plt.scatter(score_data, pred[:,1])"
   ]
  },
  {
   "cell_type": "code",
   "execution_count": 18,
   "id": "db0f1487",
   "metadata": {},
   "outputs": [
    {
     "data": {
      "text/plain": [
       "<matplotlib.collections.PathCollection at 0x1a9350b7f70>"
      ]
     },
     "execution_count": 18,
     "metadata": {},
     "output_type": "execute_result"
    },
    {
     "data": {
      "image/png": "[encoded data removed]",
      "text/plain": [
       "<Figure size 640x480 with 1 Axes>"
      ]
     },
     "metadata": {},
     "output_type": "display_data"
    }
   ],
   "source": [
    "cutoffs = np.linspace(0, 1, 100)\n",
    "accuracies = []\n",
    "for cutoff in cutoffs:\n",
    "    pred1 = np.ceil(pred[:,1] - cutoff)\n",
    "    accuracies.append(accuracy_score(win_data, pred1))\n",
    "    \n",
    "plt.scatter(cutoffs, accuracies)"
   ]
  },
  {
   "cell_type": "code",
   "execution_count": 19,
   "id": "ed593d16",
   "metadata": {},
   "outputs": [
    {
     "name": "stdout",
     "output_type": "stream",
     "text": [
      "First four winners: ['Texas A&M Corpus Chris', 'Fairleigh Dickinson', 'Pittsburgh', 'Arizona St.']\n",
      "Round 1 winners: \n",
      "['Alabama', 'Maryland', 'San Diego St.', 'Virginia', 'Creighton', 'Baylor', 'Missouri', 'Arizona']\n",
      "['Purdue', 'Florida Atlantic', 'Duke', 'Tennessee', 'Kentucky', 'Kansas St.', 'Michigan St.', 'Marquette']\n",
      "['Houston', 'Iowa', 'Miami FL', 'Indiana', 'Iowa St.', 'Xavier', 'Texas A&M', 'Texas']\n",
      "['Kansas', 'Arkansas', \"Saint Mary's\", 'Connecticut', 'TCU', 'Gonzaga', 'Northwestern', 'UCLA']\n",
      "Round 2 winners: \n",
      "['Alabama', 'San Diego St.', 'Creighton', 'Missouri']\n",
      "['Purdue', 'Duke', 'Kansas St.', 'Marquette']\n",
      "['Houston', 'Miami FL', 'Xavier', 'Texas']\n",
      "['Kansas', 'Connecticut', 'Gonzaga', 'UCLA']\n",
      "Sweet 16 winners: \n",
      "['Alabama', 'Missouri']\n",
      "['Purdue', 'Marquette']\n",
      "['Houston', 'Texas']\n",
      "['Connecticut', 'Gonzaga']\n",
      "Elite 8 winners: \n",
      "['Alabama', 'Marquette', 'Houston', 'Connecticut']\n",
      "Final 4 winners: \n",
      "['Alabama', 'Houston']\n",
      "Champion:\n",
      "Houston\n"
     ]
    }
   ],
   "source": [
    "process_bracket(model)"
   ]
  }
 ],
 "metadata": {
  "kernelspec": {
   "display_name": "470_tensorflow_env",
   "language": "python",
   "name": "470_tensorflow_env"
  },
  "language_info": {
   "codemirror_mode": {
    "name": "ipython",
    "version": 3
   },
   "file_extension": ".py",
   "mimetype": "text/x-python",
   "name": "python",
   "nbconvert_exporter": "python",
   "pygments_lexer": "ipython3",
   "version": "3.10.13"
  }
 },
 "nbformat": 4,
 "nbformat_minor": 5
}
