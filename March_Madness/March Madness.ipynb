{
 "cells": [
  {
   "cell_type": "code",
   "execution_count": 1,
   "id": "9b0f558a",
   "metadata": {},
   "outputs": [],
   "source": [
    "import pandas as pd\n",
    "import numpy as np\n",
    "from sklearn.model_selection import train_test_split\n",
    "from sklearn.neural_network import MLPRegressor\n",
    "from sklearn.metrics import confusion_matrix, accuracy_score\n",
    "import matplotlib.pyplot as plt\n",
    "import math\n",
    "import tensorflow as tf\n",
    "from tensorflow.keras.layers import Dense, Dropout\n",
    "import binarytree as bt"
   ]
  },
  {
   "cell_type": "code",
   "execution_count": 2,
   "id": "b8477698",
   "metadata": {
    "scrolled": false
   },
   "outputs": [],
   "source": [
    "#Read in training data and format it\n",
    "def setup_dataframes():\n",
    "    df = pd.read_csv('MM_game_data.csv')\n",
    "    df = df[df['YEAR'] >= 2013]\n",
    "    df = df[df['YEAR'] <= 2023]\n",
    "    np.unique(df['YEAR'])\n",
    "    games = df.drop(['ROUND'], axis=1)\n",
    "    \n",
    "    df = pd.read_csv('cbb.csv')\n",
    "    df = df[df['SEED'] > 0]\n",
    "    df = df[df['YEAR'] <= 2023]\n",
    "    teams = df.drop(['CONF', 'POSTSEASON', 'SEED'], axis=1)\n",
    "    \n",
    "    rv = np.floor(np.random.rand(len(games))*2)\n",
    "    \n",
    "    return (games,teams,rv)"
   ]
  },
  {
   "cell_type": "code",
   "execution_count": 3,
   "id": "9db46b5b",
   "metadata": {},
   "outputs": [],
   "source": [
    "#Gets data for team from name and year\n",
    "def get_team_data(team, year):\n",
    "    all_years = teams.loc[teams['TEAM'] == team]\n",
    "    specific_year = all_years.loc[all_years['YEAR'] == year]\n",
    "    return specific_year"
   ]
  },
  {
   "cell_type": "code",
   "execution_count": 4,
   "id": "ce9ea836",
   "metadata": {
    "scrolled": true
   },
   "outputs": [],
   "source": [
    "#Format the game data and randomly assign order (since inner was always first before)\n",
    "def assemble_game_data():\n",
    "    game_data = np.zeros(shape=(len(games), 38))\n",
    "    for i in range(0,len(games)):\n",
    "        wdata = get_team_data(games.iloc[i]['WTEAM'], games.iloc[i]['YEAR']).drop(['TEAM', 'YEAR'], axis=1)\n",
    "        ldata = get_team_data(games.iloc[i]['LTEAM'], games.iloc[i]['YEAR']).drop(['TEAM', 'YEAR'], axis=1)\n",
    "        if rv[i] == 0:\n",
    "            game_data[i] = np.hstack([wdata, ldata])\n",
    "        else:\n",
    "            game_data[i] = np.hstack([ldata, wdata])\n",
    "    return game_data"
   ]
  },
  {
   "cell_type": "code",
   "execution_count": 5,
   "id": "e220ec1a",
   "metadata": {},
   "outputs": [],
   "source": [
    "#Determine point differential for all games\n",
    "def assemble_response_data():\n",
    "    score_diff = []\n",
    "    for i in range(0,len(games)):\n",
    "        if rv[i] == 0:\n",
    "            score_diff.append(games.iloc[i]['WSCORE'] - games.iloc[i]['LSCORE'])\n",
    "        else:\n",
    "            score_diff.append(games.iloc[i]['LSCORE'] - games.iloc[i]['WSCORE'])\n",
    "    return score_diff"
   ]
  },
  {
   "cell_type": "code",
   "execution_count": 6,
   "id": "60f789bd",
   "metadata": {},
   "outputs": [],
   "source": [
    "#Throw message if names don't match beteen datasets\n",
    "def get_invalid_team_names():\n",
    "    wrong_names = []\n",
    "\n",
    "    for i in range(0,len(games)):\n",
    "        wdata = get_team_data(games.iloc[i]['WTEAM'], games.iloc[i]['YEAR'])\n",
    "        if wdata.empty:\n",
    "            wrong_names.append(games.iloc[i]['WTEAM'])\n",
    "        ldata = get_team_data(games.iloc[i]['LTEAM'], games.iloc[i]['YEAR'])\n",
    "        if ldata.empty:\n",
    "            wrong_names.append(games.iloc[i]['LTEAM'])\n",
    "    return np.unique(wrong_names)"
   ]
  },
  {
   "cell_type": "code",
   "execution_count": 7,
   "id": "31d6fe2c",
   "metadata": {},
   "outputs": [],
   "source": [
    "#Use model and 2 team names to predict winner\n",
    "def pred_winner(name1, name2, model):\n",
    "    team1 = get_team_data(name1, 2023).drop(['TEAM', 'YEAR'], axis=1)\n",
    "    if (team1.empty):\n",
    "        print(name1)\n",
    "    team2 = get_team_data(name2, 2023).drop(['TEAM', 'YEAR'], axis=1)\n",
    "    if (team2.empty):\n",
    "        print(name2)\n",
    "    data = np.hstack([team1, team2])\n",
    "    prob = model(data)[:,1]\n",
    "    if prob > 0.5:\n",
    "        return name1, prob\n",
    "    else:\n",
    "        return name2, prob"
   ]
  },
  {
   "cell_type": "code",
   "execution_count": 8,
   "id": "e9d8f244",
   "metadata": {},
   "outputs": [],
   "source": [
    "#Sets up tree for a bracket based off default bracket design\n",
    "def create_game_bracket():\n",
    "    games = [\"Finale\", \"FF1\", \"FF2\", \"EES\", \"EEE\", \"EEM\", \"EEW\", \"SSS1\", \"SSS2\", \"SSE1\", \"SSE2\", \"SSM1\", \"SSM2\", \"SSW1\", \"SSW2\",\n",
    "            \"R2S1\", \"R2S2\", \"R2S3\", \"R2S4\", \"R2E1\", \"R2E2\", \"R2E3\", \"R2E4\", \"R2M1\", \"R2M2\", \"R2M3\", \"R2M4\", \"R2W1\", \"R2W2\", \n",
    "            \"R2W3\", \"R2W4\", \"R1S1\", \"R1S2\", \"R1S3\", \"R1S4\", \"R1S5\", \"R1S6\", \"R1S7\", \"R1S8\", \"R1E1\", \"R1E2\", \"R1E3\", \"R1E4\", \n",
    "            \"R1E5\", \"R1E6\", \"R1E7\", \"R1E8\", \"R1M1\", \"R1M2\", \"R1M3\", \"R1M4\", \"R1M5\", \"R1M6\", \"R1M7\", \"R1M8\", \"R1W1\", \"R1W2\", \n",
    "            \"R1W3\", \"R1W4\", \"R1W5\", \"R1W6\", \"R1W7\", \"R1W8\", None, \"FFS\", None, None, None, None, None, None, None, None, None,\n",
    "            None, None, None, None, None, None, \"FFE\", None, None, None, None, None, None, None, None, None, None, None, None, \n",
    "            None, None, None, None, None, None, None, None, None, None, None, \"FFM\", None, None, None, None, None, None, None,\n",
    "            None, None, None, None, None, None, None, None,\"FFW\"]\n",
    "    \n",
    "    tree = bt.build(games)\n",
    "    return tree"
   ]
  },
  {
   "cell_type": "code",
   "execution_count": 9,
   "id": "7624d37b",
   "metadata": {},
   "outputs": [],
   "source": [
    "#Recursively calls through game tree to predict winners\n",
    "def process_bracket_tree(node, model):\n",
    "    df = pd.read_csv('2023bracket.csv')\n",
    "    numlist = [1,16,8,9,5,12,4,13,6,11,3,14,7,10,2,15]\n",
    "    \n",
    "    if (node.left == None) and (node.right == None):\n",
    "        if node.value[:2] == \"FF\":\n",
    "            t1 = get_team(True, node.value[2], 0, df)\n",
    "            t2 = get_team(True, node.value[2], 1, df)\n",
    "            (winner, prob) = pred_winner(t1, t2, model)\n",
    "            node.value = str(node.value) + \" \" + str(winner) + \" \" + str(float(prob))\n",
    "            return winner\n",
    "        else:\n",
    "            division = node.value[2]\n",
    "            gameno = node.value[3]\n",
    "            t1 = get_team(False, division, numlist[2*int(gameno) - 2], df)\n",
    "            t2 = get_team(False, division, numlist[2*int(gameno)-1], df)\n",
    "            (winner, prob) = pred_winner(t1, t2, model)\n",
    "            node.value = str(node.value) + \" \" + str(winner) + \" \" + str(float(prob))\n",
    "            return winner\n",
    "    elif (node.left == None):\n",
    "        t1 = get_team(False, node.value[2], numlist[2*int(node.value[3]) - 2], df)\n",
    "        t2 = process_bracket_tree(node.right, model)\n",
    "        (winner, prob) = pred_winner(t1, t2, model)\n",
    "        node.value = str(node.value) + \" \" + str(winner) + \" \" + str(float(prob))\n",
    "        return winner\n",
    "    else:\n",
    "        t1 = process_bracket_tree(node.left, model)\n",
    "        t2 = process_bracket_tree(node.right, model)\n",
    "        (winner, prob) = pred_winner(t1, t2, model)\n",
    "        node.value = str(node.value) + \" \" + str(winner) + \" \" + str(float(prob))\n",
    "        return winner"
   ]
  },
  {
   "cell_type": "code",
   "execution_count": 10,
   "id": "7456f0c1",
   "metadata": {},
   "outputs": [],
   "source": [
    "#Decodes bracket info to find team names for each game\n",
    "def get_team(ff, division, number, df):\n",
    "    if ff:\n",
    "        if division == \"E\":\n",
    "            teams = df[(df[\"Division\"] == \"East\") & (df[\"Seed\"] == \"FF\")][\"Team\"]\n",
    "            return teams.iloc[number]\n",
    "        elif division == \"S\":\n",
    "            teams = df[(df[\"Division\"] == \"South\") & (df[\"Seed\"] == \"FF\")][\"Team\"]\n",
    "            return teams.iloc[number]\n",
    "        elif division == \"M\":\n",
    "            teams = df[(df[\"Division\"] == \"Midwest\") & (df[\"Seed\"] == \"FF\")][\"Team\"]\n",
    "            return teams.iloc[number]\n",
    "        elif division == \"W\":\n",
    "            teams = df[(df[\"Division\"] == \"West\") & (df[\"Seed\"] == \"FF\")][\"Team\"]\n",
    "            return teams.iloc[number]\n",
    "    else:\n",
    "        if division == \"E\":\n",
    "            teams = df[(df[\"Division\"] == \"East\") & (df[\"Seed\"] == str(number))][\"Team\"]\n",
    "            return teams.iloc[0]\n",
    "        elif division == \"S\":\n",
    "            teams = df[(df[\"Division\"] == \"South\") & (df[\"Seed\"] == str(number))][\"Team\"]\n",
    "            return teams.iloc[0]\n",
    "        elif division == \"M\":\n",
    "            teams = df[(df[\"Division\"] == \"Midwest\") & (df[\"Seed\"] == str(number))][\"Team\"]\n",
    "            return teams.iloc[0]\n",
    "        elif division == \"W\":\n",
    "            teams = df[(df[\"Division\"] == \"West\") & (df[\"Seed\"] == str(number))][\"Team\"]\n",
    "            return teams.iloc[0]\n",
    "        "
   ]
  },
  {
   "cell_type": "code",
   "execution_count": null,
   "id": "4e6d950d",
   "metadata": {},
   "outputs": [],
   "source": []
  },
  {
   "cell_type": "code",
   "execution_count": 11,
   "id": "22b6ad79",
   "metadata": {},
   "outputs": [],
   "source": []
  },
  {
   "cell_type": "code",
   "execution_count": 12,
   "id": "cfc1ebc6",
   "metadata": {},
   "outputs": [],
   "source": [
    "#Set up all data\n",
    "(games,teams,rv) = setup_dataframes()\n",
    "game_data = assemble_game_data()\n",
    "score_data = assemble_response_data()\n",
    "X_train, X_test, y_train, y_test = train_test_split(game_data, score_data, test_size=0.2, random_state=1)"
   ]
  },
  {
   "cell_type": "code",
   "execution_count": 13,
   "id": "f3ed3c4c",
   "metadata": {},
   "outputs": [
    {
     "data": {
      "text/plain": [
       "0.4558434626262594"
      ]
     },
     "execution_count": 13,
     "metadata": {},
     "output_type": "execute_result"
    },
    {
     "data": {
      "image/png": "[encoded data removed]",
      "text/plain": [
       "<Figure size 640x480 with 1 Axes>"
      ]
     },
     "metadata": {},
     "output_type": "display_data"
    }
   ],
   "source": [
    "#Plot regression model to predict score differential\n",
    "regr = MLPRegressor(random_state=1).fit(X_train, y_train)\n",
    "\n",
    "pred = regr.predict(X_test)\n",
    "plt.scatter(y_test, pred)\n",
    "regr.score(X_test, y_test)"
   ]
  },
  {
   "cell_type": "code",
   "execution_count": 14,
   "id": "969cdbd9",
   "metadata": {},
   "outputs": [],
   "source": [
    "#Set up dataframe for just win/loss\n",
    "win_data = (np.sign(score_data) + 1)/2"
   ]
  },
  {
   "cell_type": "code",
   "execution_count": 15,
   "id": "73b53f58",
   "metadata": {},
   "outputs": [
    {
     "name": "stdout",
     "output_type": "stream",
     "text": [
      "Model: \"sequential\"\n",
      "_________________________________________________________________\n",
      " Layer (type)                Output Shape              Param #   \n",
      "=================================================================\n",
      " dense (Dense)               (None, None, 1000)        39000     \n",
      "                                                                 \n",
      " dropout (Dropout)           (None, None, 1000)        0         \n",
      "                                                                 \n",
      " dense_1 (Dense)             (None, None, 500)         500500    \n",
      "                                                                 \n",
      " dropout_1 (Dropout)         (None, None, 500)         0         \n",
      "                                                                 \n",
      " dense_2 (Dense)             (None, None, 250)         125250    \n",
      "                                                                 \n",
      " dense_3 (Dense)             (None, None, 2)           502       \n",
      "                                                                 \n",
      "=================================================================\n",
      "Total params: 665252 (2.54 MB)\n",
      "Trainable params: 665252 (2.54 MB)\n",
      "Non-trainable params: 0 (0.00 Byte)\n",
      "_________________________________________________________________\n"
     ]
    }
   ],
   "source": [
    "#NN model to predict winner\n",
    "layers = [tf.keras.Input(shape=(None,38)), Dense(1000, activation=\"relu\"), Dropout(0.1), Dense(500, activation=\"relu\"), Dropout(0.2), Dense(250, activation=\"relu\"), Dense(2, activation=\"softmax\")]\n",
    "model = tf.keras.models.Sequential(layers)\n",
    "model.summary()"
   ]
  },
  {
   "cell_type": "code",
   "execution_count": 16,
   "id": "ad4d79a6",
   "metadata": {},
   "outputs": [
    {
     "name": "stdout",
     "output_type": "stream",
     "text": [
      "Epoch 1/50\n",
      "17/17 [==============================] - 1s 8ms/step - loss: 6.9219 - accuracy: 0.5290\n",
      "Epoch 2/50\n",
      "17/17 [==============================] - 0s 7ms/step - loss: 1.5575 - accuracy: 0.5234\n",
      "Epoch 3/50\n",
      "17/17 [==============================] - 0s 7ms/step - loss: 1.1028 - accuracy: 0.5645\n",
      "Epoch 4/50\n",
      "17/17 [==============================] - 0s 7ms/step - loss: 0.7930 - accuracy: 0.5776\n",
      "Epoch 5/50\n",
      "17/17 [==============================] - 0s 7ms/step - loss: 0.7379 - accuracy: 0.6056\n",
      "Epoch 6/50\n",
      "17/17 [==============================] - 0s 7ms/step - loss: 0.6469 - accuracy: 0.6542\n",
      "Epoch 7/50\n",
      "17/17 [==============================] - 0s 7ms/step - loss: 0.6310 - accuracy: 0.6561\n",
      "Epoch 8/50\n",
      "17/17 [==============================] - 0s 7ms/step - loss: 0.6822 - accuracy: 0.6187\n",
      "Epoch 9/50\n",
      "17/17 [==============================] - 0s 7ms/step - loss: 0.6733 - accuracy: 0.6393\n",
      "Epoch 10/50\n",
      "17/17 [==============================] - 0s 7ms/step - loss: 0.6111 - accuracy: 0.6692\n",
      "Epoch 11/50\n",
      "17/17 [==============================] - 0s 7ms/step - loss: 0.5923 - accuracy: 0.6785\n",
      "Epoch 12/50\n",
      "17/17 [==============================] - 0s 7ms/step - loss: 0.6056 - accuracy: 0.6729\n",
      "Epoch 13/50\n",
      "17/17 [==============================] - 0s 7ms/step - loss: 0.5800 - accuracy: 0.6897\n",
      "Epoch 14/50\n",
      "17/17 [==============================] - 0s 8ms/step - loss: 0.5881 - accuracy: 0.6710\n",
      "Epoch 15/50\n",
      "17/17 [==============================] - 0s 8ms/step - loss: 0.5919 - accuracy: 0.6729\n",
      "Epoch 16/50\n",
      "17/17 [==============================] - 0s 8ms/step - loss: 0.5927 - accuracy: 0.6860\n",
      "Epoch 17/50\n",
      "17/17 [==============================] - 0s 7ms/step - loss: 0.5636 - accuracy: 0.6991\n",
      "Epoch 18/50\n",
      "17/17 [==============================] - 0s 7ms/step - loss: 0.5779 - accuracy: 0.6991\n",
      "Epoch 19/50\n",
      "17/17 [==============================] - 0s 7ms/step - loss: 0.5777 - accuracy: 0.6953\n",
      "Epoch 20/50\n",
      "17/17 [==============================] - 0s 7ms/step - loss: 0.5497 - accuracy: 0.7140\n",
      "Epoch 21/50\n",
      "17/17 [==============================] - 0s 7ms/step - loss: 0.5525 - accuracy: 0.7290\n",
      "Epoch 22/50\n",
      "17/17 [==============================] - 0s 7ms/step - loss: 0.5519 - accuracy: 0.7084\n",
      "Epoch 23/50\n",
      "17/17 [==============================] - 0s 7ms/step - loss: 0.5253 - accuracy: 0.7234\n",
      "Epoch 24/50\n",
      "17/17 [==============================] - 0s 8ms/step - loss: 0.5479 - accuracy: 0.7084\n",
      "Epoch 25/50\n",
      "17/17 [==============================] - 0s 8ms/step - loss: 0.5681 - accuracy: 0.6916\n",
      "Epoch 26/50\n",
      "17/17 [==============================] - 0s 7ms/step - loss: 0.5787 - accuracy: 0.6879\n",
      "Epoch 27/50\n",
      "17/17 [==============================] - 0s 8ms/step - loss: 0.5399 - accuracy: 0.7458\n",
      "Epoch 28/50\n",
      "17/17 [==============================] - 0s 7ms/step - loss: 0.5354 - accuracy: 0.7084\n",
      "Epoch 29/50\n",
      "17/17 [==============================] - 0s 7ms/step - loss: 0.5531 - accuracy: 0.7103\n",
      "Epoch 30/50\n",
      "17/17 [==============================] - 0s 7ms/step - loss: 0.5742 - accuracy: 0.7065\n",
      "Epoch 31/50\n",
      "17/17 [==============================] - 0s 8ms/step - loss: 0.6031 - accuracy: 0.6953\n",
      "Epoch 32/50\n",
      "17/17 [==============================] - 0s 8ms/step - loss: 0.5235 - accuracy: 0.7252\n",
      "Epoch 33/50\n",
      "17/17 [==============================] - 0s 8ms/step - loss: 0.5401 - accuracy: 0.7364\n",
      "Epoch 34/50\n",
      "17/17 [==============================] - 0s 8ms/step - loss: 0.5469 - accuracy: 0.7196\n",
      "Epoch 35/50\n",
      "17/17 [==============================] - 0s 8ms/step - loss: 0.5420 - accuracy: 0.7458\n",
      "Epoch 36/50\n",
      "17/17 [==============================] - 0s 10ms/step - loss: 0.5490 - accuracy: 0.7028\n",
      "Epoch 37/50\n",
      "17/17 [==============================] - 0s 9ms/step - loss: 0.5222 - accuracy: 0.7196\n",
      "Epoch 38/50\n",
      "17/17 [==============================] - 0s 8ms/step - loss: 0.5822 - accuracy: 0.6897\n",
      "Epoch 39/50\n",
      "17/17 [==============================] - 0s 7ms/step - loss: 0.5185 - accuracy: 0.7439\n",
      "Epoch 40/50\n",
      "17/17 [==============================] - 0s 7ms/step - loss: 0.5048 - accuracy: 0.7551\n",
      "Epoch 41/50\n",
      "17/17 [==============================] - 0s 7ms/step - loss: 0.5658 - accuracy: 0.7159\n",
      "Epoch 42/50\n",
      "17/17 [==============================] - 0s 7ms/step - loss: 0.5286 - accuracy: 0.7028\n",
      "Epoch 43/50\n",
      "17/17 [==============================] - 0s 7ms/step - loss: 0.5460 - accuracy: 0.7084\n",
      "Epoch 44/50\n",
      "17/17 [==============================] - 0s 7ms/step - loss: 0.5085 - accuracy: 0.7514\n",
      "Epoch 45/50\n",
      "17/17 [==============================] - 0s 8ms/step - loss: 0.5209 - accuracy: 0.7252\n",
      "Epoch 46/50\n",
      "17/17 [==============================] - 0s 8ms/step - loss: 0.5113 - accuracy: 0.7271\n",
      "Epoch 47/50\n",
      "17/17 [==============================] - 0s 8ms/step - loss: 0.5058 - accuracy: 0.7477\n",
      "Epoch 48/50\n",
      "17/17 [==============================] - 0s 7ms/step - loss: 0.4968 - accuracy: 0.7495\n",
      "Epoch 49/50\n",
      "17/17 [==============================] - 0s 7ms/step - loss: 0.4905 - accuracy: 0.7495\n",
      "Epoch 50/50\n",
      "17/17 [==============================] - 0s 8ms/step - loss: 0.5209 - accuracy: 0.7084\n"
     ]
    }
   ],
   "source": [
    "#Train model\n",
    "n_epochs = 50\n",
    "model.compile(optimizer=\"adam\", loss='sparse_categorical_crossentropy', metrics=['accuracy'])\n",
    "history = model.fit(game_data, win_data, epochs=n_epochs)"
   ]
  },
  {
   "cell_type": "code",
   "execution_count": 17,
   "id": "b35ee25b",
   "metadata": {},
   "outputs": [
    {
     "data": {
      "text/plain": [
       "array([[126, 129],\n",
       "       [ 14, 266]], dtype=int64)"
      ]
     },
     "execution_count": 17,
     "metadata": {},
     "output_type": "execute_result"
    }
   ],
   "source": [
    "#Accuracy of NN model\n",
    "pred = model(game_data)\n",
    "confusion_matrix(win_data, np.round(pred[:,1]))"
   ]
  },
  {
   "cell_type": "code",
   "execution_count": 18,
   "id": "e1305b8d",
   "metadata": {},
   "outputs": [
    {
     "data": {
      "text/plain": [
       "<matplotlib.lines.Line2D at 0x2b7db95fb20>"
      ]
     },
     "execution_count": 18,
     "metadata": {},
     "output_type": "execute_result"
    },
    {
     "data": {
      "image/png": "[encoded data removed]",
      "text/plain": [
       "<Figure size 640x480 with 1 Axes>"
      ]
     },
     "metadata": {},
     "output_type": "display_data"
    }
   ],
   "source": [
    "#Plot results of confidence based off of real score differential\n",
    "plt.scatter(score_data, pred[:,1])\n",
    "plt.axhline(0.5, c=\"black\")\n",
    "plt.axvline(0.5, c=\"black\")"
   ]
  },
  {
   "cell_type": "code",
   "execution_count": 19,
   "id": "db0f1487",
   "metadata": {},
   "outputs": [
    {
     "data": {
      "text/plain": [
       "<matplotlib.collections.PathCollection at 0x2b7dc9cead0>"
      ]
     },
     "execution_count": 19,
     "metadata": {},
     "output_type": "execute_result"
    },
    {
     "data": {
      "image/png": "[encoded data removed]",
      "text/plain": [
       "<Figure size 640x480 with 1 Axes>"
      ]
     },
     "metadata": {},
     "output_type": "display_data"
    }
   ],
   "source": [
    "#Show accuracy for different cutoff values\n",
    "cutoffs = np.linspace(0, 1, 100)\n",
    "accuracies = []\n",
    "for cutoff in cutoffs:\n",
    "    pred1 = np.ceil(pred[:,1] - cutoff)\n",
    "    accuracies.append(accuracy_score(win_data, pred1))\n",
    "    \n",
    "plt.scatter(cutoffs, accuracies)"
   ]
  },
  {
   "cell_type": "code",
   "execution_count": 20,
   "id": "ed593d16",
   "metadata": {},
   "outputs": [
    {
     "data": {
      "text/plain": [
       "['Finale Alabama 0.5646063089370728',\n",
       " 'FF1 Alabama 0.6843597888946533',\n",
       " 'FF2 Houston 0.8290748000144958',\n",
       " 'EES Alabama 0.84039705991745',\n",
       " 'EEE Purdue 0.6095097661018372',\n",
       " 'EEM Houston 0.8697338104248047',\n",
       " 'EEW Kansas 0.6750279068946838',\n",
       " 'SSS1 Alabama 0.7312048077583313',\n",
       " 'SSS2 Creighton 0.6385171413421631',\n",
       " 'SSE1 Purdue 0.7149813771247864',\n",
       " 'SSE2 Marquette 0.37668272852897644',\n",
       " 'SSM1 Houston 0.8629218339920044',\n",
       " 'SSM2 Xavier 0.5206393599510193',\n",
       " 'SSW1 Kansas 0.5771206021308899',\n",
       " 'SSW2 Gonzaga 0.614869236946106',\n",
       " 'R2S1 Alabama 0.9011144638061523',\n",
       " 'R2S2 San Diego St. 0.8657222390174866',\n",
       " 'R2S3 Creighton 0.5997166037559509',\n",
       " 'R2S4 Missouri 0.6979741454124451',\n",
       " 'R2E1 Purdue 0.7762515544891357',\n",
       " 'R2E2 Duke 0.6636412143707275',\n",
       " 'R2E3 Kentucky 0.5366479158401489',\n",
       " 'R2E4 Marquette 0.36957597732543945',\n",
       " 'R2M1 Houston 0.9553738832473755',\n",
       " 'R2M2 Miami FL 0.8447483777999878',\n",
       " 'R2M3 Xavier 0.47499242424964905',\n",
       " 'R2M4 Texas 0.4755893051624298',\n",
       " 'R2W1 Kansas 0.9056594371795654',\n",
       " 'R2W2 Connecticut 0.35146546363830566',\n",
       " 'R2W3 Gonzaga 0.44123029708862305',\n",
       " 'R2W4 UCLA 0.33930596709251404',\n",
       " 'R1S1 Alabama 0.9774380326271057',\n",
       " 'R1S2 Maryland 0.6984634399414062',\n",
       " 'R1S3 San Diego St. 0.8166140913963318',\n",
       " 'R1S4 Virginia 0.7446936368942261',\n",
       " 'R1S5 Creighton 0.7247097492218018',\n",
       " 'R1S6 Baylor 0.8640851974487305',\n",
       " 'R1S7 Missouri 0.8333953022956848',\n",
       " 'R1S8 Arizona 0.9402838349342346',\n",
       " 'R1E1 Purdue 0.9804474115371704',\n",
       " 'R1E2 Memphis 0.5575014352798462',\n",
       " 'R1E3 Duke 0.791840672492981',\n",
       " 'R1E4 Tennessee 0.8661904335021973',\n",
       " 'R1E5 Kentucky 0.6862031817436218',\n",
       " 'R1E6 Kansas St. 0.8811424374580383',\n",
       " 'R1E7 Michigan St. 0.6752296090126038',\n",
       " 'R1E8 Marquette 0.9702989459037781',\n",
       " 'R1M1 Houston 0.9853717684745789',\n",
       " 'R1M2 Iowa 0.6615918874740601',\n",
       " 'R1M3 Miami FL 0.8849571347236633',\n",
       " 'R1M4 Indiana 0.7376314997673035',\n",
       " 'R1M5 Iowa St. 0.6791351437568665',\n",
       " 'R1M6 Xavier 0.897632360458374',\n",
       " 'R1M7 Texas A&M 0.7129653692245483',\n",
       " 'R1M8 Texas 0.9376574754714966',\n",
       " 'R1W1 Kansas 0.9774137139320374',\n",
       " 'R1W2 Arkansas 0.7159838080406189',\n",
       " \"R1W3 Saint Mary's 0.7487838864326477\",\n",
       " 'R1W4 Connecticut 0.9166473150253296',\n",
       " 'R1W5 TCU 0.7545030117034912',\n",
       " 'R1W6 Gonzaga 0.9571918249130249',\n",
       " 'R1W7 Northwestern 0.7226431369781494',\n",
       " 'R1W8 UCLA 0.9760743975639343',\n",
       " None,\n",
       " 'FFS Texas A&M Corpus Chris 0.8145396113395691',\n",
       " None,\n",
       " None,\n",
       " None,\n",
       " None,\n",
       " None,\n",
       " None,\n",
       " None,\n",
       " None,\n",
       " None,\n",
       " None,\n",
       " None,\n",
       " None,\n",
       " None,\n",
       " None,\n",
       " None,\n",
       " 'FFE Fairleigh Dickinson 0.4310532808303833',\n",
       " None,\n",
       " None,\n",
       " None,\n",
       " None,\n",
       " None,\n",
       " None,\n",
       " None,\n",
       " None,\n",
       " None,\n",
       " None,\n",
       " None,\n",
       " None,\n",
       " None,\n",
       " None,\n",
       " None,\n",
       " None,\n",
       " None,\n",
       " None,\n",
       " None,\n",
       " None,\n",
       " None,\n",
       " None,\n",
       " None,\n",
       " 'FFM Pittsburgh 0.7127236127853394',\n",
       " None,\n",
       " None,\n",
       " None,\n",
       " None,\n",
       " None,\n",
       " None,\n",
       " None,\n",
       " None,\n",
       " None,\n",
       " None,\n",
       " None,\n",
       " None,\n",
       " None,\n",
       " None,\n",
       " None,\n",
       " 'FFW Arizona St. 0.8230054974555969']"
      ]
     },
     "execution_count": 20,
     "metadata": {},
     "output_type": "execute_result"
    }
   ],
   "source": [
    "#Process game tree an print results\n",
    "root = create_game_bracket()\n",
    "process_bracket_tree(root, model)\n",
    "root.values"
   ]
  }
 ],
 "metadata": {
  "kernelspec": {
   "display_name": "470_tensorflow_env",
   "language": "python",
   "name": "470_tensorflow_env"
  },
  "language_info": {
   "codemirror_mode": {
    "name": "ipython",
    "version": 3
   },
   "file_extension": ".py",
   "mimetype": "text/x-python",
   "name": "python",
   "nbconvert_exporter": "python",
   "pygments_lexer": "ipython3",
   "version": "3.10.13"
  }
 },
 "nbformat": 4,
 "nbformat_minor": 5
}
