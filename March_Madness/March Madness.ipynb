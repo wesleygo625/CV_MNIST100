{
 "cells": [
  {
   "cell_type": "code",
   "execution_count": 24,
   "id": "9b0f558a",
   "metadata": {},
   "outputs": [],
   "source": [
    "import pandas as pd\n",
    "import numpy as np\n",
    "from sklearn.model_selection import train_test_split\n",
    "from sklearn.neural_network import MLPRegressor\n",
    "import matplotlib.pyplot as plt\n",
    "import math"
   ]
  },
  {
   "cell_type": "code",
   "execution_count": 2,
   "id": "b8477698",
   "metadata": {
    "scrolled": false
   },
   "outputs": [],
   "source": [
    "def setup_dataframes():\n",
    "    df = pd.read_csv('MM_game_data.csv')\n",
    "    df = df[df['YEAR'] >= 2013]\n",
    "    df = df[df['YEAR'] <= 2023]\n",
    "    np.unique(df['YEAR'])\n",
    "    games = df.drop(['ROUND'], axis=1)\n",
    "    \n",
    "    df = pd.read_csv('cbb.csv')\n",
    "    df = df[df['SEED'] > 0]\n",
    "    df = df[df['YEAR'] <= 2021]\n",
    "    teams = df.drop(['CONF', 'POSTSEASON', 'SEED'], axis=1)\n",
    "    \n",
    "    rv = np.floor(np.random.rand(len(games))*2)\n",
    "    \n",
    "    return (games,teams,rv)"
   ]
  },
  {
   "cell_type": "code",
   "execution_count": 3,
   "id": "9db46b5b",
   "metadata": {},
   "outputs": [],
   "source": [
    "def get_team_data(team, year):\n",
    "    all_years = teams.loc[teams['TEAM'] == team]\n",
    "    specific_year = all_years.loc[all_years['YEAR'] == year]\n",
    "    return specific_year"
   ]
  },
  {
   "cell_type": "code",
   "execution_count": 4,
   "id": "ce9ea836",
   "metadata": {
    "scrolled": true
   },
   "outputs": [],
   "source": [
    "def assemble_game_data():\n",
    "    game_data = np.zeros(shape=(len(games), 38))\n",
    "    for i in range(0,len(games)):\n",
    "        wdata = get_team_data(games.iloc[i]['WTEAM'], games.iloc[i]['YEAR']).drop(['TEAM', 'YEAR'], axis=1)\n",
    "        ldata = get_team_data(games.iloc[i]['LTEAM'], games.iloc[i]['YEAR']).drop(['TEAM', 'YEAR'], axis=1)\n",
    "        if rv[i] == 0:\n",
    "            game_data[i] = np.hstack([wdata, ldata])\n",
    "        else:\n",
    "            game_data[i] = np.hstack([ldata, wdata])\n",
    "    return game_data"
   ]
  },
  {
   "cell_type": "code",
   "execution_count": 5,
   "id": "e220ec1a",
   "metadata": {},
   "outputs": [],
   "source": [
    "def assemble_response_data():\n",
    "    score_diff = []\n",
    "    for i in range(0,len(games)):\n",
    "        if rv[i] == 0:\n",
    "            score_diff.append(games.iloc[i]['WSCORE'] - games.iloc[i]['LSCORE'])\n",
    "        else:\n",
    "            score_diff.append(games.iloc[i]['LSCORE'] - games.iloc[i]['WSCORE'])\n",
    "    return score_diff"
   ]
  },
  {
   "cell_type": "code",
   "execution_count": 6,
   "id": "60f789bd",
   "metadata": {},
   "outputs": [],
   "source": [
    "def get_invalid_team_names():\n",
    "    wrong_names = []\n",
    "\n",
    "    for i in range(0,len(games)):\n",
    "        wdata = get_team_data(games.iloc[i]['WTEAM'], games.iloc[i]['YEAR'])\n",
    "        if wdata.empty:\n",
    "            wrong_names.append(games.iloc[i]['WTEAM'])\n",
    "        ldata = get_team_data(games.iloc[i]['LTEAM'], games.iloc[i]['YEAR'])\n",
    "        if ldata.empty:\n",
    "            wrong_names.append(games.iloc[i]['LTEAM'])\n",
    "    return np.unique(wrong_names)"
   ]
  },
  {
   "cell_type": "code",
   "execution_count": 10,
   "id": "2087a907",
   "metadata": {},
   "outputs": [],
   "source": [
    "(games,teams,rv) = setup_dataframes()"
   ]
  },
  {
   "cell_type": "code",
   "execution_count": 18,
   "id": "cfc1ebc6",
   "metadata": {},
   "outputs": [],
   "source": [
    "game_data = assemble_game_data()\n",
    "score_data = assemble_response_data()\n",
    "X_train, X_test, y_train, y_test = train_test_split(game_data, score_data, test_size=0.2, random_state=1)"
   ]
  },
  {
   "cell_type": "code",
   "execution_count": 47,
   "id": "f3ed3c4c",
   "metadata": {},
   "outputs": [
    {
     "data": {
      "text/plain": [
       "0.45462300943098244"
      ]
     },
     "execution_count": 47,
     "metadata": {},
     "output_type": "execute_result"
    },
    {
     "data": {
      "image/png": "[encoded data removed]",
      "text/plain": [
       "<Figure size 640x480 with 1 Axes>"
      ]
     },
     "metadata": {},
     "output_type": "display_data"
    }
   ],
   "source": [
    "regr = MLPRegressor(random_state=1).fit(X_train, y_train)\n",
    "\n",
    "pred = regr.predict(X_test)\n",
    "plt.scatter(y_test, pred)\n",
    "regr.score(X_test, y_test)"
   ]
  },
  {
   "cell_type": "code",
   "execution_count": 40,
   "id": "969cdbd9",
   "metadata": {},
   "outputs": [
    {
     "data": {
      "text/plain": [
       "array([200., 206., 212., 218., 224., 230., 236., 242., 248., 254., 260.,\n",
       "       266., 272., 278., 284., 290., 296., 302., 308., 314., 320., 326.,\n",
       "       332., 338., 344., 350., 356., 362., 368., 374., 380., 386., 392.,\n",
       "       398., 404., 410., 416., 422., 428., 434., 440., 446., 452., 458.,\n",
       "       464., 470., 476., 482., 488., 494., 500.])"
      ]
     },
     "execution_count": 40,
     "metadata": {},
     "output_type": "execute_result"
    }
   ],
   "source": []
  }
 ],
 "metadata": {
  "kernelspec": {
   "display_name": "Python 3 (ipykernel)",
   "language": "python",
   "name": "python3"
  },
  "language_info": {
   "codemirror_mode": {
    "name": "ipython",
    "version": 3
   },
   "file_extension": ".py",
   "mimetype": "text/x-python",
   "name": "python",
   "nbconvert_exporter": "python",
   "pygments_lexer": "ipython3",
   "version": "3.9.15"
  }
 },
 "nbformat": 4,
 "nbformat_minor": 5
}
