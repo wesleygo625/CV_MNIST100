{
 "cells": [
  {
   "cell_type": "code",
   "execution_count": 1,
   "id": "9b0f558a",
   "metadata": {},
   "outputs": [],
   "source": [
    "import pandas as pd\n",
    "import numpy as np\n",
    "from sklearn.model_selection import train_test_split\n",
    "from sklearn.neural_network import MLPRegressor\n",
    "from sklearn.metrics import confusion_matrix, accuracy_score\n",
    "import matplotlib.pyplot as plt\n",
    "import math\n",
    "import tensorflow as tf\n",
    "from tensorflow.keras.layers import Dense, Dropout"
   ]
  },
  {
   "cell_type": "code",
   "execution_count": 18,
   "id": "b8477698",
   "metadata": {
    "scrolled": false
   },
   "outputs": [],
   "source": [
    "def setup_dataframes():\n",
    "    df = pd.read_csv('MM_game_data.csv')\n",
    "    df = df[df['YEAR'] >= 2013]\n",
    "    df = df[df['YEAR'] <= 2023]\n",
    "    np.unique(df['YEAR'])\n",
    "    games = df.drop(['ROUND'], axis=1)\n",
    "    \n",
    "    df = pd.read_csv('cbb.csv')\n",
    "    df = df[df['SEED'] > 0]\n",
    "    df = df[df['YEAR'] <= 2023]\n",
    "    teams = df.drop(['CONF', 'POSTSEASON', 'SEED'], axis=1)\n",
    "    \n",
    "    rv = np.floor(np.random.rand(len(games))*2)\n",
    "    \n",
    "    return (games,teams,rv)"
   ]
  },
  {
   "cell_type": "code",
   "execution_count": 3,
   "id": "9db46b5b",
   "metadata": {},
   "outputs": [],
   "source": [
    "def get_team_data(team, year):\n",
    "    all_years = teams.loc[teams['TEAM'] == team]\n",
    "    specific_year = all_years.loc[all_years['YEAR'] == year]\n",
    "    return specific_year"
   ]
  },
  {
   "cell_type": "code",
   "execution_count": 4,
   "id": "ce9ea836",
   "metadata": {
    "scrolled": true
   },
   "outputs": [],
   "source": [
    "def assemble_game_data():\n",
    "    game_data = np.zeros(shape=(len(games), 38))\n",
    "    for i in range(0,len(games)):\n",
    "        wdata = get_team_data(games.iloc[i]['WTEAM'], games.iloc[i]['YEAR']).drop(['TEAM', 'YEAR'], axis=1)\n",
    "        ldata = get_team_data(games.iloc[i]['LTEAM'], games.iloc[i]['YEAR']).drop(['TEAM', 'YEAR'], axis=1)\n",
    "        if rv[i] == 0:\n",
    "            game_data[i] = np.hstack([wdata, ldata])\n",
    "        else:\n",
    "            game_data[i] = np.hstack([ldata, wdata])\n",
    "    return game_data"
   ]
  },
  {
   "cell_type": "code",
   "execution_count": 5,
   "id": "e220ec1a",
   "metadata": {},
   "outputs": [],
   "source": [
    "def assemble_response_data():\n",
    "    score_diff = []\n",
    "    for i in range(0,len(games)):\n",
    "        if rv[i] == 0:\n",
    "            score_diff.append(games.iloc[i]['WSCORE'] - games.iloc[i]['LSCORE'])\n",
    "        else:\n",
    "            score_diff.append(games.iloc[i]['LSCORE'] - games.iloc[i]['WSCORE'])\n",
    "    return score_diff"
   ]
  },
  {
   "cell_type": "code",
   "execution_count": 6,
   "id": "60f789bd",
   "metadata": {},
   "outputs": [],
   "source": [
    "def get_invalid_team_names():\n",
    "    wrong_names = []\n",
    "\n",
    "    for i in range(0,len(games)):\n",
    "        wdata = get_team_data(games.iloc[i]['WTEAM'], games.iloc[i]['YEAR'])\n",
    "        if wdata.empty:\n",
    "            wrong_names.append(games.iloc[i]['WTEAM'])\n",
    "        ldata = get_team_data(games.iloc[i]['LTEAM'], games.iloc[i]['YEAR'])\n",
    "        if ldata.empty:\n",
    "            wrong_names.append(games.iloc[i]['LTEAM'])\n",
    "    return np.unique(wrong_names)"
   ]
  },
  {
   "cell_type": "code",
   "execution_count": 148,
   "id": "5917d0b8",
   "metadata": {},
   "outputs": [],
   "source": [
    "def process_bracket(model):\n",
    "    numlist = [1,16,8,9,5,12,4,13,6,11,3,14,7,10,2,15]\n",
    "    df = pd.read_csv('2023bracket.csv')\n",
    "    \n",
    "    FF = first_four_winners(df, model) \n",
    "    \n",
    "    south = [None] * 16\n",
    "    east = [None] * 16\n",
    "    midwest = [None] * 16\n",
    "    west = [None] * 16\n",
    "    \n",
    "    for i in range(16):\n",
    "        if i == 15:\n",
    "            south[numlist.index(i+1)] = FF[0]\n",
    "            east[numlist.index(i+1)] = FF[1]\n",
    "        else:\n",
    "            southdata = df.loc[(df['Division'] == 'South') & (df['Seed'] == str(i+1))]\n",
    "            south[numlist.index(i+1)] = str(southdata.iloc[0]['Team'])\n",
    "            eastdata = df.loc[(df['Division'] == 'East') & (df['Seed'] == str(i+1))]\n",
    "            east[numlist.index(i+1)] = str(eastdata.iloc[0]['Team'])\n",
    "        if i == 10:\n",
    "            midwest[numlist.index(i+1)] = FF[2]\n",
    "            west[numlist.index(i+1)] = FF[3]\n",
    "        else:\n",
    "            midwestdata = df.loc[(df['Division'] == 'Midwest') & (df['Seed'] == str(i+1))]\n",
    "            midwest[numlist.index(i+1)] = str(midwestdata.iloc[0]['Team'])\n",
    "            westdata = df.loc[(df['Division'] == 'West') & (df['Seed'] == str(i+1))]\n",
    "            west[numlist.index(i+1)] = str(westdata.iloc[0]['Team'])\n",
    "            \n",
    "        \n",
    "    print(south)\n",
    "    print(east)\n",
    "    print(midwest)\n",
    "    print(west)\n",
    "    \n",
    "    return        \n",
    "    "
   ]
  },
  {
   "cell_type": "code",
   "execution_count": 93,
   "id": "2087a907",
   "metadata": {},
   "outputs": [],
   "source": [
    "def first_four_winners(df, model):\n",
    "    FF = []\n",
    "    for index, row in df[df['Seed'] == 'FF'].iterrows():\n",
    "        FF.append(row['Team'])\n",
    "    FFgames = []\n",
    "    for i in range(int(len(FF)/2)):\n",
    "        team1 = get_team_data(FF[2*i], 2023).drop(['TEAM', 'YEAR'], axis=1)\n",
    "        team2 = get_team_data(FF[2*i+1], 2023).drop(['TEAM', 'YEAR'], axis=1)\n",
    "        FFgames.append(np.hstack([team1, team2]))\n",
    "    \n",
    "    FFwinners = []\n",
    "    for i in range(len(FFgames)):\n",
    "        prob = model(FFgames[i])[:,1]\n",
    "        if prob > 0.5:\n",
    "            FFwinners.append(FF[2*i])\n",
    "        else:\n",
    "            FFwinners.append(FF[2*i+1])\n",
    "    return FFwinners"
   ]
  },
  {
   "cell_type": "code",
   "execution_count": 21,
   "id": "22b6ad79",
   "metadata": {},
   "outputs": [],
   "source": [
    "(games,teams,rv) = setup_dataframes()"
   ]
  },
  {
   "cell_type": "code",
   "execution_count": 8,
   "id": "cfc1ebc6",
   "metadata": {},
   "outputs": [],
   "source": [
    "game_data = assemble_game_data()\n",
    "score_data = assemble_response_data()\n",
    "X_train, X_test, y_train, y_test = train_test_split(game_data, score_data, test_size=0.2, random_state=1)"
   ]
  },
  {
   "cell_type": "code",
   "execution_count": 9,
   "id": "f3ed3c4c",
   "metadata": {},
   "outputs": [
    {
     "data": {
      "text/plain": [
       "0.47106069618262403"
      ]
     },
     "execution_count": 9,
     "metadata": {},
     "output_type": "execute_result"
    },
    {
     "data": {
      "image/png": "[encoded data removed]",
      "text/plain": [
       "<Figure size 640x480 with 1 Axes>"
      ]
     },
     "metadata": {},
     "output_type": "display_data"
    }
   ],
   "source": [
    "regr = MLPRegressor(random_state=1).fit(X_train, y_train)\n",
    "\n",
    "pred = regr.predict(X_test)\n",
    "plt.scatter(y_test, pred)\n",
    "regr.score(X_test, y_test)"
   ]
  },
  {
   "cell_type": "code",
   "execution_count": 10,
   "id": "969cdbd9",
   "metadata": {},
   "outputs": [],
   "source": [
    "win_data = (np.sign(score_data) + 1)/2"
   ]
  },
  {
   "cell_type": "code",
   "execution_count": 62,
   "id": "73b53f58",
   "metadata": {},
   "outputs": [
    {
     "name": "stdout",
     "output_type": "stream",
     "text": [
      "Model: \"sequential_1\"\n",
      "_________________________________________________________________\n",
      " Layer (type)                Output Shape              Param #   \n",
      "=================================================================\n",
      " dense_4 (Dense)             (None, None, 1000)        39000     \n",
      "                                                                 \n",
      " dropout_2 (Dropout)         (None, None, 1000)        0         \n",
      "                                                                 \n",
      " dense_5 (Dense)             (None, None, 500)         500500    \n",
      "                                                                 \n",
      " dropout_3 (Dropout)         (None, None, 500)         0         \n",
      "                                                                 \n",
      " dense_6 (Dense)             (None, None, 250)         125250    \n",
      "                                                                 \n",
      " dense_7 (Dense)             (None, None, 2)           502       \n",
      "                                                                 \n",
      "=================================================================\n",
      "Total params: 665252 (2.54 MB)\n",
      "Trainable params: 665252 (2.54 MB)\n",
      "Non-trainable params: 0 (0.00 Byte)\n",
      "_________________________________________________________________\n"
     ]
    }
   ],
   "source": [
    "layers = [tf.keras.Input(shape=(None,38)), Dense(1000, activation=\"relu\"), Dropout(0.1), Dense(500, activation=\"relu\"), Dropout(0.2), Dense(250, activation=\"relu\"), Dense(2, activation=\"softmax\")]\n",
    "model = tf.keras.models.Sequential(layers)\n",
    "model.summary()"
   ]
  },
  {
   "cell_type": "code",
   "execution_count": 63,
   "id": "ad4d79a6",
   "metadata": {},
   "outputs": [
    {
     "name": "stdout",
     "output_type": "stream",
     "text": [
      "Epoch 1/50\n",
      "17/17 [==============================] - 1s 10ms/step - loss: 9.7074 - accuracy: 0.4991\n",
      "Epoch 2/50\n",
      "17/17 [==============================] - 0s 12ms/step - loss: 0.9934 - accuracy: 0.5458\n",
      "Epoch 3/50\n",
      "17/17 [==============================] - 0s 14ms/step - loss: 0.8433 - accuracy: 0.5421\n",
      "Epoch 4/50\n",
      "17/17 [==============================] - 0s 14ms/step - loss: 0.7709 - accuracy: 0.6075\n",
      "Epoch 5/50\n",
      "17/17 [==============================] - 0s 14ms/step - loss: 0.7011 - accuracy: 0.6280\n",
      "Epoch 6/50\n",
      "17/17 [==============================] - 0s 13ms/step - loss: 0.6622 - accuracy: 0.6673\n",
      "Epoch 7/50\n",
      "17/17 [==============================] - 0s 13ms/step - loss: 0.6622 - accuracy: 0.6430\n",
      "Epoch 8/50\n",
      "17/17 [==============================] - 0s 12ms/step - loss: 0.6338 - accuracy: 0.6766\n",
      "Epoch 9/50\n",
      "17/17 [==============================] - 0s 10ms/step - loss: 0.6309 - accuracy: 0.6804\n",
      "Epoch 10/50\n",
      "17/17 [==============================] - 0s 9ms/step - loss: 0.5511 - accuracy: 0.7196\n",
      "Epoch 11/50\n",
      "17/17 [==============================] - 0s 9ms/step - loss: 0.5761 - accuracy: 0.7121\n",
      "Epoch 12/50\n",
      "17/17 [==============================] - 0s 9ms/step - loss: 0.5669 - accuracy: 0.6879\n",
      "Epoch 13/50\n",
      "17/17 [==============================] - 0s 8ms/step - loss: 0.6063 - accuracy: 0.6729\n",
      "Epoch 14/50\n",
      "17/17 [==============================] - 0s 9ms/step - loss: 0.5717 - accuracy: 0.6972\n",
      "Epoch 15/50\n",
      "17/17 [==============================] - 0s 9ms/step - loss: 0.5504 - accuracy: 0.7047\n",
      "Epoch 16/50\n",
      "17/17 [==============================] - 0s 8ms/step - loss: 0.5920 - accuracy: 0.7009\n",
      "Epoch 17/50\n",
      "17/17 [==============================] - 0s 9ms/step - loss: 0.6478 - accuracy: 0.6617\n",
      "Epoch 18/50\n",
      "17/17 [==============================] - 0s 8ms/step - loss: 0.5589 - accuracy: 0.6953\n",
      "Epoch 19/50\n",
      "17/17 [==============================] - 0s 9ms/step - loss: 0.5291 - accuracy: 0.7178\n",
      "Epoch 20/50\n",
      "17/17 [==============================] - 0s 9ms/step - loss: 0.5201 - accuracy: 0.7271\n",
      "Epoch 21/50\n",
      "17/17 [==============================] - 0s 9ms/step - loss: 0.5524 - accuracy: 0.7084\n",
      "Epoch 22/50\n",
      "17/17 [==============================] - 0s 9ms/step - loss: 0.5355 - accuracy: 0.7383\n",
      "Epoch 23/50\n",
      "17/17 [==============================] - 0s 8ms/step - loss: 0.5197 - accuracy: 0.7439\n",
      "Epoch 24/50\n",
      "17/17 [==============================] - 0s 10ms/step - loss: 0.5162 - accuracy: 0.7421\n",
      "Epoch 25/50\n",
      "17/17 [==============================] - 0s 9ms/step - loss: 0.4800 - accuracy: 0.7514\n",
      "Epoch 26/50\n",
      "17/17 [==============================] - 0s 10ms/step - loss: 0.6032 - accuracy: 0.6785\n",
      "Epoch 27/50\n",
      "17/17 [==============================] - 0s 10ms/step - loss: 0.5667 - accuracy: 0.6991\n",
      "Epoch 28/50\n",
      "17/17 [==============================] - 0s 9ms/step - loss: 0.4990 - accuracy: 0.7551\n",
      "Epoch 29/50\n",
      "17/17 [==============================] - 0s 11ms/step - loss: 0.5392 - accuracy: 0.7290\n",
      "Epoch 30/50\n",
      "17/17 [==============================] - 0s 12ms/step - loss: 0.5144 - accuracy: 0.7084\n",
      "Epoch 31/50\n",
      "17/17 [==============================] - 0s 10ms/step - loss: 0.4991 - accuracy: 0.7439\n",
      "Epoch 32/50\n",
      "17/17 [==============================] - 0s 10ms/step - loss: 0.5614 - accuracy: 0.7047\n",
      "Epoch 33/50\n",
      "17/17 [==============================] - 0s 11ms/step - loss: 0.5655 - accuracy: 0.6860\n",
      "Epoch 34/50\n",
      "17/17 [==============================] - 0s 11ms/step - loss: 0.5185 - accuracy: 0.7364\n",
      "Epoch 35/50\n",
      "17/17 [==============================] - 0s 10ms/step - loss: 0.4892 - accuracy: 0.7664\n",
      "Epoch 36/50\n",
      "17/17 [==============================] - 0s 11ms/step - loss: 0.4966 - accuracy: 0.7757\n",
      "Epoch 37/50\n",
      "17/17 [==============================] - 0s 9ms/step - loss: 0.4893 - accuracy: 0.7607\n",
      "Epoch 38/50\n",
      "17/17 [==============================] - 0s 10ms/step - loss: 0.5308 - accuracy: 0.7402\n",
      "Epoch 39/50\n",
      "17/17 [==============================] - 0s 10ms/step - loss: 0.5009 - accuracy: 0.7514\n",
      "Epoch 40/50\n",
      "17/17 [==============================] - 0s 10ms/step - loss: 0.5337 - accuracy: 0.7234\n",
      "Epoch 41/50\n",
      "17/17 [==============================] - 0s 11ms/step - loss: 0.5308 - accuracy: 0.7308\n",
      "Epoch 42/50\n",
      "17/17 [==============================] - 0s 10ms/step - loss: 0.5308 - accuracy: 0.7215\n",
      "Epoch 43/50\n",
      "17/17 [==============================] - 0s 10ms/step - loss: 0.4876 - accuracy: 0.7664\n",
      "Epoch 44/50\n",
      "17/17 [==============================] - 0s 10ms/step - loss: 0.6257 - accuracy: 0.6523\n",
      "Epoch 45/50\n",
      "17/17 [==============================] - 0s 11ms/step - loss: 0.5593 - accuracy: 0.6841\n",
      "Epoch 46/50\n",
      "17/17 [==============================] - 0s 10ms/step - loss: 0.5120 - accuracy: 0.7458\n",
      "Epoch 47/50\n",
      "17/17 [==============================] - 0s 8ms/step - loss: 0.5800 - accuracy: 0.7084\n",
      "Epoch 48/50\n",
      "17/17 [==============================] - 0s 8ms/step - loss: 0.5072 - accuracy: 0.7514\n",
      "Epoch 49/50\n",
      "17/17 [==============================] - 0s 9ms/step - loss: 0.4880 - accuracy: 0.7589\n",
      "Epoch 50/50\n",
      "17/17 [==============================] - 0s 11ms/step - loss: 0.5222 - accuracy: 0.7383\n"
     ]
    }
   ],
   "source": [
    "n_epochs = 50\n",
    "model.compile(optimizer=\"adam\", loss='sparse_categorical_crossentropy', metrics=['accuracy'])\n",
    "history = model.fit(game_data, win_data, epochs=n_epochs)"
   ]
  },
  {
   "cell_type": "code",
   "execution_count": 64,
   "id": "b35ee25b",
   "metadata": {},
   "outputs": [
    {
     "data": {
      "text/plain": [
       "array([[213,  56],\n",
       "       [ 63, 203]], dtype=int64)"
      ]
     },
     "execution_count": 64,
     "metadata": {},
     "output_type": "execute_result"
    }
   ],
   "source": [
    "pred = model(game_data)\n",
    "#confusion_matrix(win_data, pred)\n",
    "confusion_matrix(win_data, np.round(pred[:,1]))"
   ]
  },
  {
   "cell_type": "code",
   "execution_count": 15,
   "id": "e1305b8d",
   "metadata": {},
   "outputs": [
    {
     "data": {
      "text/plain": [
       "<matplotlib.collections.PathCollection at 0x222b0a60400>"
      ]
     },
     "execution_count": 15,
     "metadata": {},
     "output_type": "execute_result"
    },
    {
     "data": {
      "image/png": "[encoded data removed]",
      "text/plain": [
       "<Figure size 640x480 with 1 Axes>"
      ]
     },
     "metadata": {},
     "output_type": "display_data"
    }
   ],
   "source": [
    "plt.scatter(score_data, win_data)\n",
    "plt.scatter(score_data, pred[:,1])"
   ]
  },
  {
   "cell_type": "code",
   "execution_count": 16,
   "id": "db0f1487",
   "metadata": {},
   "outputs": [
    {
     "data": {
      "text/plain": [
       "<matplotlib.collections.PathCollection at 0x222ad925a50>"
      ]
     },
     "execution_count": 16,
     "metadata": {},
     "output_type": "execute_result"
    },
    {
     "data": {
      "image/png": "[encoded data removed]",
      "text/plain": [
       "<Figure size 640x480 with 1 Axes>"
      ]
     },
     "metadata": {},
     "output_type": "display_data"
    }
   ],
   "source": [
    "cutoffs = np.linspace(0, 1, 100)\n",
    "accuracies = []\n",
    "for cutoff in cutoffs:\n",
    "    pred1 = np.ceil(pred[:,1] - cutoff)\n",
    "    accuracies.append(accuracy_score(win_data, pred1))\n",
    "    \n",
    "plt.scatter(cutoffs, accuracies)"
   ]
  },
  {
   "cell_type": "code",
   "execution_count": 149,
   "id": "ed593d16",
   "metadata": {},
   "outputs": [
    {
     "name": "stdout",
     "output_type": "stream",
     "text": [
      "['Alabama', 'Texas A&M Corpus Chris', 'Maryland', 'West Virginia', 'San Diego St.', 'College of Charleston', 'Virginia', 'Furman', 'Creighton', 'NC State', 'Baylor', 'UC Santa Barbara', 'Missouri', 'Utah St.', 'Arizona', 'Princeton']\n",
      "['Purdue', 'Fairleigh Dickinson', 'Memphis', 'Florida Atlantic', 'Duke', 'Oral Roberts', 'Tennessee', 'Louisiana', 'Kentucky', 'Providence', 'Kansas St.', 'Montana St.', 'Michigan St.', 'USC', 'Marquette', 'Vermont']\n",
      "['Houston', 'Northern Kentucky', 'Iowa', 'Auburn', 'Miami FL', 'Drake', 'Indiana', 'Kent St.', 'Iowa St.', 'Pittsburgh', 'Xavier', 'Kennesaw St.', 'Texas A&M', 'Penn St.', 'Texas', 'Colgate']\n",
      "['Kansas', 'Howard', 'Arkansas', 'Illinois', \"Saint Mary's\", 'VCU', 'Uconn', 'Iona', 'TCU', 'Arizona St.', 'Gonzaga', 'Grand Canyon', 'Northwestern', 'Boise St.', 'UCLA', 'UNC Asheville']\n"
     ]
    }
   ],
   "source": [
    "process_bracket(model)"
   ]
  }
 ],
 "metadata": {
  "kernelspec": {
   "display_name": "470_tensorflow_env",
   "language": "python",
   "name": "470_tensorflow_env"
  },
  "language_info": {
   "codemirror_mode": {
    "name": "ipython",
    "version": 3
   },
   "file_extension": ".py",
   "mimetype": "text/x-python",
   "name": "python",
   "nbconvert_exporter": "python",
   "pygments_lexer": "ipython3",
   "version": "3.10.13"
  }
 },
 "nbformat": 4,
 "nbformat_minor": 5
}
