{
 "cells": [
  {
   "cell_type": "code",
   "execution_count": 17,
   "id": "2b4b126a",
   "metadata": {},
   "outputs": [],
   "source": [
    "import pandas as pd"
   ]
  },
  {
   "cell_type": "code",
   "execution_count": 18,
   "id": "d6df3168",
   "metadata": {},
   "outputs": [],
   "source": [
    "df = pd.read_csv('Collins Scrabble Words (2019).txt', sep=' ', header=None)\n",
    "df = df.applymap(str)"
   ]
  },
  {
   "cell_type": "code",
   "execution_count": 19,
   "id": "a505194b",
   "metadata": {},
   "outputs": [
    {
     "name": "stdout",
     "output_type": "stream",
     "text": [
      "5379\n"
     ]
    }
   ],
   "source": [
    "words = []\n",
    "for word in df[0]:\n",
    "    if ((len(word)) == 4):\n",
    "        words.append(word)\n",
    "rem = [\"HOND\", \"SOWP\", \"SOUT\", \"SAUT\", \"SAIS\", \"POOT\", \"WOOT\", \"LEEP\", \"TYTE\", \"GART\", \"LYMS\", \"PIES\", \"LOME\", \"TAKY\", \"OARY\", \n",
    "      \"JEAT\", \"GEAN\", \"SEAN\", \"PERN\", \"PENE\", \"MENT\", \"MENE\", \"SYEN\", \"ETEN\", \"HYEN\", \"HYED\", \"NISH\", \"SIGS\", \"SICH\", \"SUGS\",\n",
    "      \"TOSE\", \"TRON\", \"VELE\", \"VELL\", \"WEIL\", \"BHAT\", \"BOKS\", \"POLK\", \"TRIN\", \"GNOW\", \"AROW\", \"PELL\", \"PAAL\", \"BOTE\", \"NOUT\", \n",
    "      \"VERS\", \"TOUN\", \"LOUN\", \"HOON\", \"BOUN\", \"HORS\", \"HEYS\", \"YORK\", \"YOUK\", \"MOZE\", \"EECH\", \"TAIT\", \"RACH\", \"MAIK\", \"TECS\", \n",
    "      \"SECH\", \"LOSH\", \"TREM\", \"SKED\", \"EHED\", \"SYED\", \"NYED\", \"EOAN\", \"CIRL\", \"YESK\", \"DELO\", \"DESI\", \"DEEK\", \"HESP\", \"FAUT\", \n",
    "      \"LUIT\", \"TWAY\", \"TAKS\", \"AINE\", \"TIKS\", \"SERR\", \"SEIR\", \"SELE\", \"HELE\", \"SELD\", \"HEID\", \"LEIR\", \"WEID\", \"GAID\", \"LAIK\",\n",
    "      \"GOOK\", \"BRAK\", \"TOCK\", \"GRIS\", \"GANT\", \"RAIT\", \"RAIK\", \"GEIT\", \"COIT\", \"CERT\", \"CUIT\", \"WASE\", \"WAAH\", \"JURE\", \"FLOB\",\n",
    "      \"FOOS\", \"FOUD\", \"GOWF\", \"SOOP\", \"COSE\", \"LEAT\", \"FEIS\", \"TEAD\", \"BROD\", \"BROG\", \"DRAD\", \"PIOY\", \"KAIE\", \"PAIS\", \"PAAN\",\n",
    "      \"GARE\", \"POWN\", \"DOWL\", \"LEED\", \"SOUM\", \"SEIK\", \"SEIL\", \"MEES\", \"MOYS\", \"LOYS\", \"SAAG\", \"PRYS\", \"LARE\", \"MOUS\", \"FOUS\", \n",
    "      \"LOKE\", \"LOOR\", \"DOOK\", \"POOK\", \"MOOK\", \"HOOR\", \"DOUK\", \"SISS\", \"TETE\", \"HETE\", \"SIES\", \"REAK\", \"SCAW\", \"YEAD\", \"MINO\", \n",
    "      \"MENG\", \"JUDY\", \"DULE\", \"PUMY\", \"SIEN\", \"WAID\", \"LISK\", \"RISP\", \"DIMP\", \"SAIM\", \"RORT\", \"RORE\", \"AIAS\", \"BING\", \"ANNS\", \n",
    "      \"ALAP\", \"BRAP\", \"FRAS\", \"PLAP\", \"COMS\", \"VOLS\", \"NIMB\", \"GOLP\", \"LOMA\", \"HOMA\", \"BOOL\", \"RAST\", \"POSS\", \"CHIB\", \"SENS\", \n",
    "      \"TASH\", \"TAWT\", \"DOOL\", \"LIND\", \"LERE\", \"COOM\", \"CRON\", \"TUAN\", \"HERY\", \"GURN\", \"TURM\", \"BUAT\", \"HORE\", \"SAFT\", \"GOLE\", \n",
    "      \"FETT\", \"TOLT\", \"GEAL\", \"YOLD\", \"ARED\", \"GREN\", \"MARD\", \"GONS\", \"FENT\", \"ROIN\", \"LOIR\", \"RAUN\", \"FAUR\", \"COUR\", \"SNEB\", \n",
    "      \"PENK\", \"TRAT\", \"TAIG\", \"ARET\", \"DOSH\", \"CHAS\", \"CHAL\", \"SANT\", \"MOOP\", \"DOON\", \"COWP\", \"THON\", \"SHEN\", \"ABID\", \"FEEN\", \n",
    "      \"ALOD\", \"LANT\", \"CLAT\", \"WHOT\", \"PIET\", \"TOSA\", \"TOGE\", \"TEEK\", \"TREW\", \"TEER\", \"HOLO\", \"SHET\", \"BONA\", \"HOGH\", \"HISH\", \n",
    "      \"TAIS\", \"SIND\", \"RITS\", \"WAIS\", \"TAES\", \"KAIS\", \"TUMS\", \"MICH\", \"DICH\", \"ROUM\", \"DOUT\", \"ROUL\", \"DOUP\", \"DOUN\", \"SOWL\", \n",
    "      \"NOWL\", \"LEVS\", \"LOTE\"]\n",
    "for word in rem:\n",
    "    words.remove(word)\n",
    "print(len(words))"
   ]
  },
  {
   "cell_type": "code",
   "execution_count": 20,
   "id": "1a2d071a",
   "metadata": {},
   "outputs": [],
   "source": [
    "def get_next_words (current_words, words):\n",
    "    next_words = []\n",
    "    for word in current_words:\n",
    "        for possible in words:\n",
    "            if (possible == word):\n",
    "                continue\n",
    "            elif (possible[1:] == word[1:]):\n",
    "                next_words.append(possible)\n",
    "            elif (possible[2:] == word[2:] and possible[:1] == word[:1]):\n",
    "                next_words.append(possible)\n",
    "            elif (possible[3:] == word[3:] and possible[:2] == word[:2]):\n",
    "                next_words.append(possible)\n",
    "            elif (possible[:3] == word[:3]):\n",
    "                next_words.append(possible)\n",
    "    return next_words"
   ]
  },
  {
   "cell_type": "code",
   "execution_count": 21,
   "id": "800d742c",
   "metadata": {},
   "outputs": [],
   "source": [
    "def get_word_dicts (current_words, words):\n",
    "    next_words = {}\n",
    "    for word in current_words:\n",
    "        for possible in words:\n",
    "            if (possible == word):\n",
    "                continue\n",
    "            elif (possible[1:] == word[1:]):\n",
    "                next_words[possible] = word\n",
    "            elif (possible[2:] == word[2:] and possible[:1] == word[:1]):\n",
    "                next_words[possible] = word\n",
    "            elif (possible[3:] == word[3:] and possible[:2] == word[:2]):\n",
    "                next_words[possible] = word\n",
    "            elif (possible[:3] == word[:3]):\n",
    "                next_words[possible] = word\n",
    "    return next_words"
   ]
  },
  {
   "cell_type": "code",
   "execution_count": 22,
   "id": "3bbdb37c",
   "metadata": {},
   "outputs": [],
   "source": [
    "starting_word = ['DEAR']\n",
    "ending_word = 'LOVE'"
   ]
  },
  {
   "cell_type": "code",
   "execution_count": 23,
   "id": "2fee01ae",
   "metadata": {},
   "outputs": [
    {
     "name": "stdout",
     "output_type": "stream",
     "text": [
      "Optimal: 6\n"
     ]
    }
   ],
   "source": [
    "w = starting_word\n",
    "flag = True\n",
    "counter = 0\n",
    "while (flag == True):\n",
    "    w = get_next_words(w, words)\n",
    "    w = list(dict.fromkeys(w))\n",
    "    counter += 1\n",
    "    if ending_word in w:\n",
    "        flag = False\n",
    "print(str(\"Optimal: \" + str(counter)))"
   ]
  },
  {
   "cell_type": "code",
   "execution_count": 24,
   "id": "4acbdaec",
   "metadata": {},
   "outputs": [
    {
     "name": "stdout",
     "output_type": "stream",
     "text": [
      "['DEAR', 'LEAR', 'LEAS', 'LESS', 'LOSS', 'LOSE', 'LOVE']\n"
     ]
    }
   ],
   "source": [
    "lists = []\n",
    "d = get_word_dicts(starting_word, words)\n",
    "lists.append(d)\n",
    "for i in range (1,counter):\n",
    "    d = get_word_dicts(d.keys(), words)\n",
    "    lists.append(d)\n",
    "\n",
    "index = counter - 1\n",
    "temp = ending_word\n",
    "l = []\n",
    "\n",
    "while (index >= -1):\n",
    "    l.append(temp)\n",
    "    temp = lists[index][temp]\n",
    "    index -= 1\n",
    "    \n",
    "l.reverse()\n",
    "print(l)"
   ]
  },
  {
   "cell_type": "code",
   "execution_count": null,
   "id": "8a71bc24",
   "metadata": {},
   "outputs": [],
   "source": []
  }
 ],
 "metadata": {
  "kernelspec": {
   "display_name": "Python 3 (ipykernel)",
   "language": "python",
   "name": "python3"
  },
  "language_info": {
   "codemirror_mode": {
    "name": "ipython",
    "version": 3
   },
   "file_extension": ".py",
   "mimetype": "text/x-python",
   "name": "python",
   "nbconvert_exporter": "python",
   "pygments_lexer": "ipython3",
   "version": "3.9.15"
  }
 },
 "nbformat": 4,
 "nbformat_minor": 5
}
